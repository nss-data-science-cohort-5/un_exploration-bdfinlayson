{
 "cells": [
  {
   "cell_type": "code",
   "execution_count": 17,
   "metadata": {
    "collapsed": true
   },
   "outputs": [],
   "source": [
    "from datetime import datetime\n",
    "\n",
    "import pandas as pd\n",
    "import numpy as np"
   ]
  },
  {
   "cell_type": "code",
   "execution_count": 34,
   "outputs": [
    {
     "data": {
      "text/plain": "      Country       Subgroup  Year  Value\n0     Armenia  Female 15+ yr  2001     14\n1   Australia  Female 15+ yr  2000     22\n2   Australia    Male 15+ yr  2000     19\n3  Azerbaijan  Female 15+ yr  2001     12\n4     Bahrain  Female 15+ yr  1999     34",
      "text/html": "<div>\n<style scoped>\n    .dataframe tbody tr th:only-of-type {\n        vertical-align: middle;\n    }\n\n    .dataframe tbody tr th {\n        vertical-align: top;\n    }\n\n    .dataframe thead th {\n        text-align: right;\n    }\n</style>\n<table border=\"1\" class=\"dataframe\">\n  <thead>\n    <tr style=\"text-align: right;\">\n      <th></th>\n      <th>Country</th>\n      <th>Subgroup</th>\n      <th>Year</th>\n      <th>Value</th>\n    </tr>\n  </thead>\n  <tbody>\n    <tr>\n      <th>0</th>\n      <td>Armenia</td>\n      <td>Female 15+ yr</td>\n      <td>2001</td>\n      <td>14</td>\n    </tr>\n    <tr>\n      <th>1</th>\n      <td>Australia</td>\n      <td>Female 15+ yr</td>\n      <td>2000</td>\n      <td>22</td>\n    </tr>\n    <tr>\n      <th>2</th>\n      <td>Australia</td>\n      <td>Male 15+ yr</td>\n      <td>2000</td>\n      <td>19</td>\n    </tr>\n    <tr>\n      <th>3</th>\n      <td>Azerbaijan</td>\n      <td>Female 15+ yr</td>\n      <td>2001</td>\n      <td>12</td>\n    </tr>\n    <tr>\n      <th>4</th>\n      <td>Bahrain</td>\n      <td>Female 15+ yr</td>\n      <td>1999</td>\n      <td>34</td>\n    </tr>\n  </tbody>\n</table>\n</div>"
     },
     "execution_count": 34,
     "metadata": {},
     "output_type": "execute_result"
    }
   ],
   "source": [
    "obesity_df = pd.read_csv('data/obesity.csv')\\\n",
    "\t.drop(columns=['Source','Unit', 'Value Footnotes'])\\\n",
    "\t.rename(columns={'Country or Area': 'Country'})\\\n",
    "\t.dropna(subset=['Value'])\n",
    "\n",
    "obesity_df.head()"
   ],
   "metadata": {
    "collapsed": false,
    "pycharm": {
     "name": "#%%\n"
    }
   }
  },
  {
   "cell_type": "code",
   "execution_count": 21,
   "outputs": [
    {
     "data": {
      "text/plain": "       Country  Year  GDP_Per_Capita\n0  Afghanistan  2019         2065.04\n1  Afghanistan  2018         2033.78\n2  Afghanistan  2017         2058.38\n3  Afghanistan  2016         2057.06\n4  Afghanistan  2015         2068.27",
      "text/html": "<div>\n<style scoped>\n    .dataframe tbody tr th:only-of-type {\n        vertical-align: middle;\n    }\n\n    .dataframe tbody tr th {\n        vertical-align: top;\n    }\n\n    .dataframe thead th {\n        text-align: right;\n    }\n</style>\n<table border=\"1\" class=\"dataframe\">\n  <thead>\n    <tr style=\"text-align: right;\">\n      <th></th>\n      <th>Country</th>\n      <th>Year</th>\n      <th>GDP_Per_Capita</th>\n    </tr>\n  </thead>\n  <tbody>\n    <tr>\n      <th>0</th>\n      <td>Afghanistan</td>\n      <td>2019</td>\n      <td>2065.04</td>\n    </tr>\n    <tr>\n      <th>1</th>\n      <td>Afghanistan</td>\n      <td>2018</td>\n      <td>2033.78</td>\n    </tr>\n    <tr>\n      <th>2</th>\n      <td>Afghanistan</td>\n      <td>2017</td>\n      <td>2058.38</td>\n    </tr>\n    <tr>\n      <th>3</th>\n      <td>Afghanistan</td>\n      <td>2016</td>\n      <td>2057.06</td>\n    </tr>\n    <tr>\n      <th>4</th>\n      <td>Afghanistan</td>\n      <td>2015</td>\n      <td>2068.27</td>\n    </tr>\n  </tbody>\n</table>\n</div>"
     },
     "execution_count": 21,
     "metadata": {},
     "output_type": "execute_result"
    }
   ],
   "source": [
    "def round_2(n: float):\n",
    "\tif n == '':\n",
    "\t\treturn\n",
    "\ttry:\n",
    "\t\treturn float(np.format_float_positional(float(n), precision=2))\n",
    "\texcept Exception:\n",
    "\t\tprint(f'Unable to convert {n} to float')\n",
    "\n",
    "gdp_df = pd\\\n",
    "    .read_csv('data/gdp_per_capita.csv', converters={'Value': round_2})\\\n",
    "    .drop(columns=['Value Footnotes']) \\\n",
    "    .dropna(subset=['Value']) \\\n",
    "    .rename(columns={'Country or Area': 'Country', 'Value': 'GDP_Per_Capita'})\n",
    "\n",
    "gdp_df.head()"
   ],
   "metadata": {
    "collapsed": false,
    "pycharm": {
     "name": "#%%\n"
    }
   }
  },
  {
   "cell_type": "code",
   "execution_count": 24,
   "outputs": [
    {
     "data": {
      "text/plain": "       Country  Year             Value\n0  Afghanistan  2014              6.39\n1  Afghanistan  2013               5.9\n2  Afghanistan  2012  5.45454545454545\n3  Afghanistan  2011                 5\n4  Afghanistan  2010                 4",
      "text/html": "<div>\n<style scoped>\n    .dataframe tbody tr th:only-of-type {\n        vertical-align: middle;\n    }\n\n    .dataframe tbody tr th {\n        vertical-align: top;\n    }\n\n    .dataframe thead th {\n        text-align: right;\n    }\n</style>\n<table border=\"1\" class=\"dataframe\">\n  <thead>\n    <tr style=\"text-align: right;\">\n      <th></th>\n      <th>Country</th>\n      <th>Year</th>\n      <th>Value</th>\n    </tr>\n  </thead>\n  <tbody>\n    <tr>\n      <th>0</th>\n      <td>Afghanistan</td>\n      <td>2014</td>\n      <td>6.39</td>\n    </tr>\n    <tr>\n      <th>1</th>\n      <td>Afghanistan</td>\n      <td>2013</td>\n      <td>5.9</td>\n    </tr>\n    <tr>\n      <th>2</th>\n      <td>Afghanistan</td>\n      <td>2012</td>\n      <td>5.45454545454545</td>\n    </tr>\n    <tr>\n      <th>3</th>\n      <td>Afghanistan</td>\n      <td>2011</td>\n      <td>5</td>\n    </tr>\n    <tr>\n      <th>4</th>\n      <td>Afghanistan</td>\n      <td>2010</td>\n      <td>4</td>\n    </tr>\n  </tbody>\n</table>\n</div>"
     },
     "execution_count": 24,
     "metadata": {},
     "output_type": "execute_result"
    }
   ],
   "source": [
    "def is_year_filter(obj):\n",
    "\ttry:\n",
    "\t\tdatetime.strptime(obj, '%Y')\n",
    "\t\treturn obj\n",
    "\texcept Exception:\n",
    "\t\t# print(f'{obj} is not a year')\n",
    "\t\treturn\n",
    "\n",
    "def is_numeric_filter(obj):\n",
    "\ttry:\n",
    "\t\tfloat(obj)\n",
    "\t\treturn obj\n",
    "\texcept Exception:\n",
    "\t\t# print(f'{obj} is not a number')\n",
    "\t\treturn\n",
    "\n",
    "internet_df = pd.read_csv(\n",
    "\t'data/internet_use.csv',\n",
    "\tconverters=\n",
    "\t{\n",
    "\t\t'Year': is_year_filter,\n",
    "\t\t'Value': is_numeric_filter\n",
    "\t})\\\n",
    "\t.dropna(subset=['Year', 'Value'])\\\n",
    "\t.drop(columns=['Value Footnotes'])\\\n",
    "\t.rename(columns={'Country or Area': 'Country'})\n",
    "\n",
    "internet_df.head()"
   ],
   "metadata": {
    "collapsed": false,
    "pycharm": {
     "name": "#%%\n"
    }
   }
  },
  {
   "cell_type": "code",
   "execution_count": 35,
   "outputs": [
    {
     "ename": "ValueError",
     "evalue": "You are trying to merge on object and int64 columns. If you wish to proceed you should use pd.concat",
     "output_type": "error",
     "traceback": [
      "\u001B[0;31m---------------------------------------------------------------------------\u001B[0m",
      "\u001B[0;31mValueError\u001B[0m                                Traceback (most recent call last)",
      "\u001B[0;32m<ipython-input-35-0ffd5ae9d5fe>\u001B[0m in \u001B[0;36m<module>\u001B[0;34m\u001B[0m\n\u001B[0;32m----> 1\u001B[0;31m \u001B[0mgdp_internet_obesity_df\u001B[0m \u001B[0;34m=\u001B[0m \u001B[0mgdp_df\u001B[0m\u001B[0;31m\\\u001B[0m\u001B[0;34m\u001B[0m\u001B[0;34m\u001B[0m\u001B[0m\n\u001B[0m\u001B[1;32m      2\u001B[0m         \u001B[0;34m.\u001B[0m\u001B[0mmerge\u001B[0m\u001B[0;34m(\u001B[0m\u001B[0minternet_df\u001B[0m\u001B[0;34m,\u001B[0m \u001B[0mon\u001B[0m\u001B[0;34m=\u001B[0m\u001B[0;34m[\u001B[0m\u001B[0;34m'Country'\u001B[0m\u001B[0;34m,\u001B[0m \u001B[0;34m'Year'\u001B[0m\u001B[0;34m]\u001B[0m\u001B[0;34m)\u001B[0m\u001B[0;31m\\\u001B[0m\u001B[0;34m\u001B[0m\u001B[0;34m\u001B[0m\u001B[0m\n\u001B[1;32m      3\u001B[0m         \u001B[0;34m.\u001B[0m\u001B[0mmerge\u001B[0m\u001B[0;34m(\u001B[0m\u001B[0mobesity_df\u001B[0m\u001B[0;34m,\u001B[0m \u001B[0mon\u001B[0m\u001B[0;34m=\u001B[0m\u001B[0;34m[\u001B[0m\u001B[0;34m'Country'\u001B[0m\u001B[0;34m,\u001B[0m \u001B[0;34m'Year'\u001B[0m\u001B[0;34m]\u001B[0m\u001B[0;34m)\u001B[0m\u001B[0;34m\u001B[0m\u001B[0;34m\u001B[0m\u001B[0m\n\u001B[1;32m      4\u001B[0m \u001B[0;34m\u001B[0m\u001B[0m\n\u001B[1;32m      5\u001B[0m \u001B[0mgdp_internet_obesity_df\u001B[0m\u001B[0;34m.\u001B[0m\u001B[0mhead\u001B[0m\u001B[0;34m(\u001B[0m\u001B[0;34m)\u001B[0m\u001B[0;34m\u001B[0m\u001B[0;34m\u001B[0m\u001B[0m\n",
      "\u001B[0;32m/usr/local/anaconda3/lib/python3.8/site-packages/pandas/core/frame.py\u001B[0m in \u001B[0;36mmerge\u001B[0;34m(self, right, how, on, left_on, right_on, left_index, right_index, sort, suffixes, copy, indicator, validate)\u001B[0m\n\u001B[1;32m   8193\u001B[0m         \u001B[0;32mfrom\u001B[0m \u001B[0mpandas\u001B[0m\u001B[0;34m.\u001B[0m\u001B[0mcore\u001B[0m\u001B[0;34m.\u001B[0m\u001B[0mreshape\u001B[0m\u001B[0;34m.\u001B[0m\u001B[0mmerge\u001B[0m \u001B[0;32mimport\u001B[0m \u001B[0mmerge\u001B[0m\u001B[0;34m\u001B[0m\u001B[0;34m\u001B[0m\u001B[0m\n\u001B[1;32m   8194\u001B[0m \u001B[0;34m\u001B[0m\u001B[0m\n\u001B[0;32m-> 8195\u001B[0;31m         return merge(\n\u001B[0m\u001B[1;32m   8196\u001B[0m             \u001B[0mself\u001B[0m\u001B[0;34m,\u001B[0m\u001B[0;34m\u001B[0m\u001B[0;34m\u001B[0m\u001B[0m\n\u001B[1;32m   8197\u001B[0m             \u001B[0mright\u001B[0m\u001B[0;34m,\u001B[0m\u001B[0;34m\u001B[0m\u001B[0;34m\u001B[0m\u001B[0m\n",
      "\u001B[0;32m/usr/local/anaconda3/lib/python3.8/site-packages/pandas/core/reshape/merge.py\u001B[0m in \u001B[0;36mmerge\u001B[0;34m(left, right, how, on, left_on, right_on, left_index, right_index, sort, suffixes, copy, indicator, validate)\u001B[0m\n\u001B[1;32m     72\u001B[0m     \u001B[0mvalidate\u001B[0m\u001B[0;34m=\u001B[0m\u001B[0;32mNone\u001B[0m\u001B[0;34m,\u001B[0m\u001B[0;34m\u001B[0m\u001B[0;34m\u001B[0m\u001B[0m\n\u001B[1;32m     73\u001B[0m ) -> \"DataFrame\":\n\u001B[0;32m---> 74\u001B[0;31m     op = _MergeOperation(\n\u001B[0m\u001B[1;32m     75\u001B[0m         \u001B[0mleft\u001B[0m\u001B[0;34m,\u001B[0m\u001B[0;34m\u001B[0m\u001B[0;34m\u001B[0m\u001B[0m\n\u001B[1;32m     76\u001B[0m         \u001B[0mright\u001B[0m\u001B[0;34m,\u001B[0m\u001B[0;34m\u001B[0m\u001B[0;34m\u001B[0m\u001B[0m\n",
      "\u001B[0;32m/usr/local/anaconda3/lib/python3.8/site-packages/pandas/core/reshape/merge.py\u001B[0m in \u001B[0;36m__init__\u001B[0;34m(self, left, right, how, on, left_on, right_on, axis, left_index, right_index, sort, suffixes, copy, indicator, validate)\u001B[0m\n\u001B[1;32m    670\u001B[0m         \u001B[0;31m# validate the merge keys dtypes. We may need to coerce\u001B[0m\u001B[0;34m\u001B[0m\u001B[0;34m\u001B[0m\u001B[0;34m\u001B[0m\u001B[0m\n\u001B[1;32m    671\u001B[0m         \u001B[0;31m# to avoid incompatible dtypes\u001B[0m\u001B[0;34m\u001B[0m\u001B[0;34m\u001B[0m\u001B[0;34m\u001B[0m\u001B[0m\n\u001B[0;32m--> 672\u001B[0;31m         \u001B[0mself\u001B[0m\u001B[0;34m.\u001B[0m\u001B[0m_maybe_coerce_merge_keys\u001B[0m\u001B[0;34m(\u001B[0m\u001B[0;34m)\u001B[0m\u001B[0;34m\u001B[0m\u001B[0;34m\u001B[0m\u001B[0m\n\u001B[0m\u001B[1;32m    673\u001B[0m \u001B[0;34m\u001B[0m\u001B[0m\n\u001B[1;32m    674\u001B[0m         \u001B[0;31m# If argument passed to validate,\u001B[0m\u001B[0;34m\u001B[0m\u001B[0;34m\u001B[0m\u001B[0;34m\u001B[0m\u001B[0m\n",
      "\u001B[0;32m/usr/local/anaconda3/lib/python3.8/site-packages/pandas/core/reshape/merge.py\u001B[0m in \u001B[0;36m_maybe_coerce_merge_keys\u001B[0;34m(self)\u001B[0m\n\u001B[1;32m   1191\u001B[0m                     \u001B[0minferred_right\u001B[0m \u001B[0;32min\u001B[0m \u001B[0mstring_types\u001B[0m \u001B[0;32mand\u001B[0m \u001B[0minferred_left\u001B[0m \u001B[0;32mnot\u001B[0m \u001B[0;32min\u001B[0m \u001B[0mstring_types\u001B[0m\u001B[0;34m\u001B[0m\u001B[0;34m\u001B[0m\u001B[0m\n\u001B[1;32m   1192\u001B[0m                 ):\n\u001B[0;32m-> 1193\u001B[0;31m                     \u001B[0;32mraise\u001B[0m \u001B[0mValueError\u001B[0m\u001B[0;34m(\u001B[0m\u001B[0mmsg\u001B[0m\u001B[0;34m)\u001B[0m\u001B[0;34m\u001B[0m\u001B[0;34m\u001B[0m\u001B[0m\n\u001B[0m\u001B[1;32m   1194\u001B[0m \u001B[0;34m\u001B[0m\u001B[0m\n\u001B[1;32m   1195\u001B[0m             \u001B[0;31m# datetimelikes must match exactly\u001B[0m\u001B[0;34m\u001B[0m\u001B[0;34m\u001B[0m\u001B[0;34m\u001B[0m\u001B[0m\n",
      "\u001B[0;31mValueError\u001B[0m: You are trying to merge on object and int64 columns. If you wish to proceed you should use pd.concat"
     ]
    }
   ],
   "source": [
    "gdp_internet_obesity_df = gdp_df\\\n",
    "\t.merge(internet_df, on=['Country', 'Year'])\\\n",
    "\t.merge(obesity_df, on=['Country', 'Year'])\n",
    "\n",
    "gdp_internet_obesity_df.head()"
   ],
   "metadata": {
    "collapsed": false,
    "pycharm": {
     "name": "#%%\n"
    }
   }
  }
 ],
 "metadata": {
  "kernelspec": {
   "display_name": "Python 3",
   "language": "python",
   "name": "python3"
  },
  "language_info": {
   "codemirror_mode": {
    "name": "ipython",
    "version": 2
   },
   "file_extension": ".py",
   "mimetype": "text/x-python",
   "name": "python",
   "nbconvert_exporter": "python",
   "pygments_lexer": "ipython2",
   "version": "2.7.6"
  }
 },
 "nbformat": 4,
 "nbformat_minor": 0
}