{
 "cells": [
  {
   "cell_type": "code",
   "execution_count": 130,
   "metadata": {
    "collapsed": true
   },
   "outputs": [],
   "source": [
    "from datetime import datetime\n",
    "\n",
    "import matplotlib.pyplot as plt\n",
    "import pandas as pd\n",
    "import numpy as np\n",
    "import seaborn as sns"
   ]
  },
  {
   "cell_type": "code",
   "execution_count": 124,
   "outputs": [
    {
     "name": "stdout",
     "output_type": "stream",
     "text": [
      "<class 'pandas.core.frame.DataFrame'>\n",
      "MultiIndex: 3068 entries, ('Albania', 1996) to ('Zimbabwe', 2011)\n",
      "Data columns (total 1 columns):\n",
      " #   Column             Non-Null Count  Dtype  \n",
      "---  ------             --------------  -----  \n",
      " 0   printed_trade_usd  3068 non-null   float64\n",
      "dtypes: float64(1)\n",
      "memory usage: 34.9+ KB\n"
     ]
    },
    {
     "data": {
      "text/plain": "                    printed_trade_usd\ncountry       year                   \nUnited States 1991       5.439473e+09\n              1992       5.769179e+09\n              1993       6.130243e+09\n              1994       6.245540e+09\n              1995       6.847231e+09\n              1996       6.935208e+09\n              1997       7.313102e+09\n              1998       7.602182e+09\n              1999       7.758473e+09\n              2000       8.184302e+09\n              2001       8.340726e+09\n              2002       8.403099e+09\n              2003       8.754839e+09\n              2004       9.345690e+09\n              2005       1.034953e+10\n              2006       1.085809e+10\n              2007       1.172431e+10\n              2008       1.179372e+10\n              2009       9.895709e+09\n              2010       1.061441e+10\n              2011       1.050939e+10",
      "text/html": "<div>\n<style scoped>\n    .dataframe tbody tr th:only-of-type {\n        vertical-align: middle;\n    }\n\n    .dataframe tbody tr th {\n        vertical-align: top;\n    }\n\n    .dataframe thead th {\n        text-align: right;\n    }\n</style>\n<table border=\"1\" class=\"dataframe\">\n  <thead>\n    <tr style=\"text-align: right;\">\n      <th></th>\n      <th></th>\n      <th>printed_trade_usd</th>\n    </tr>\n    <tr>\n      <th>country</th>\n      <th>year</th>\n      <th></th>\n    </tr>\n  </thead>\n  <tbody>\n    <tr>\n      <th rowspan=\"21\" valign=\"top\">United States</th>\n      <th>1991</th>\n      <td>5.439473e+09</td>\n    </tr>\n    <tr>\n      <th>1992</th>\n      <td>5.769179e+09</td>\n    </tr>\n    <tr>\n      <th>1993</th>\n      <td>6.130243e+09</td>\n    </tr>\n    <tr>\n      <th>1994</th>\n      <td>6.245540e+09</td>\n    </tr>\n    <tr>\n      <th>1995</th>\n      <td>6.847231e+09</td>\n    </tr>\n    <tr>\n      <th>1996</th>\n      <td>6.935208e+09</td>\n    </tr>\n    <tr>\n      <th>1997</th>\n      <td>7.313102e+09</td>\n    </tr>\n    <tr>\n      <th>1998</th>\n      <td>7.602182e+09</td>\n    </tr>\n    <tr>\n      <th>1999</th>\n      <td>7.758473e+09</td>\n    </tr>\n    <tr>\n      <th>2000</th>\n      <td>8.184302e+09</td>\n    </tr>\n    <tr>\n      <th>2001</th>\n      <td>8.340726e+09</td>\n    </tr>\n    <tr>\n      <th>2002</th>\n      <td>8.403099e+09</td>\n    </tr>\n    <tr>\n      <th>2003</th>\n      <td>8.754839e+09</td>\n    </tr>\n    <tr>\n      <th>2004</th>\n      <td>9.345690e+09</td>\n    </tr>\n    <tr>\n      <th>2005</th>\n      <td>1.034953e+10</td>\n    </tr>\n    <tr>\n      <th>2006</th>\n      <td>1.085809e+10</td>\n    </tr>\n    <tr>\n      <th>2007</th>\n      <td>1.172431e+10</td>\n    </tr>\n    <tr>\n      <th>2008</th>\n      <td>1.179372e+10</td>\n    </tr>\n    <tr>\n      <th>2009</th>\n      <td>9.895709e+09</td>\n    </tr>\n    <tr>\n      <th>2010</th>\n      <td>1.061441e+10</td>\n    </tr>\n    <tr>\n      <th>2011</th>\n      <td>1.050939e+10</td>\n    </tr>\n  </tbody>\n</table>\n</div>"
     },
     "execution_count": 124,
     "metadata": {},
     "output_type": "execute_result"
    }
   ],
   "source": [
    "# dataset taken from http://data.un.org/Data.aspx?d=ComTrade&f=_l1Code%3a50\n",
    "\n",
    "printed_trade = pd.read_csv('data/printed_goods_world_trade.csv')\\\n",
    "\t.drop(columns=['Weight (kg)'])\\\n",
    "\t.rename(columns={\n",
    "\t\t'Country or Area': 'country',\n",
    "\t\t'Trade (USD)': 'printed_trade_usd'\n",
    "\t})\\\n",
    "\t.dropna(subset=['printed_trade_usd'])\\\n",
    "\t.rename(columns=str.lower)\\\n",
    "\t.replace(to_replace='USA', value='United States')\\\n",
    "\t.pivot_table(\n",
    "\t\tindex=['country', 'year'],\n",
    "\t\tvalues='printed_trade_usd',\n",
    "\t\taggfunc=np.sum\n",
    "\t)\n",
    "\n",
    "printed_trade.info()\n",
    "printed_trade.head()\n",
    "\n",
    "printed_trade.query('country == \"United States\"')"
   ],
   "metadata": {
    "collapsed": false,
    "pycharm": {
     "name": "#%%\n"
    }
   }
  },
  {
   "cell_type": "code",
   "execution_count": 116,
   "outputs": [
    {
     "name": "stdout",
     "output_type": "stream",
     "text": [
      "<class 'pandas.core.frame.DataFrame'>\n",
      "Int64Index: 6868 entries, 0 to 6867\n",
      "Data columns (total 3 columns):\n",
      " #   Column          Non-Null Count  Dtype  \n",
      "---  ------          --------------  -----  \n",
      " 0   country         6868 non-null   object \n",
      " 1   year            6868 non-null   int64  \n",
      " 2   gdp_per_capita  6868 non-null   float64\n",
      "dtypes: float64(1), int64(1), object(1)\n",
      "memory usage: 214.6+ KB\n"
     ]
    },
    {
     "data": {
      "text/plain": "            country  year  gdp_per_capita\n6572  United States  2019        62530.39\n6573  United States  2018        61498.37\n6574  United States  2017        60062.22\n6575  United States  2016        59043.21\n6576  United States  2015        58509.58\n6577  United States  2014        57273.13\n6578  United States  2013        56269.96\n6579  United States  2012        55632.93\n6580  United States  2011        54806.12\n6581  United States  2010        54359.13\n6582  United States  2009        53440.91\n6583  United States  2008        55314.66\n6584  United States  2007        55916.72\n6585  United States  2006        55411.44\n6586  United States  2005        54395.36\n6587  United States  2004        53035.78\n6588  United States  2003        51569.82\n6589  United States  2002        50568.10\n6590  United States  2001        50165.72\n6591  United States  2000        50163.89\n6592  United States  1999        48714.53\n6593  United States  1998        47041.18\n6594  United States  1997        45551.41\n6595  United States  1996        44140.14\n6596  United States  1995        43033.24\n6597  United States  1994        42410.33\n6598  United States  1993        41270.87\n6599  United States  1992        40698.34\n6600  United States  1991        39862.58\n6601  United States  1990        40442.60",
      "text/html": "<div>\n<style scoped>\n    .dataframe tbody tr th:only-of-type {\n        vertical-align: middle;\n    }\n\n    .dataframe tbody tr th {\n        vertical-align: top;\n    }\n\n    .dataframe thead th {\n        text-align: right;\n    }\n</style>\n<table border=\"1\" class=\"dataframe\">\n  <thead>\n    <tr style=\"text-align: right;\">\n      <th></th>\n      <th>country</th>\n      <th>year</th>\n      <th>gdp_per_capita</th>\n    </tr>\n  </thead>\n  <tbody>\n    <tr>\n      <th>6572</th>\n      <td>United States</td>\n      <td>2019</td>\n      <td>62530.39</td>\n    </tr>\n    <tr>\n      <th>6573</th>\n      <td>United States</td>\n      <td>2018</td>\n      <td>61498.37</td>\n    </tr>\n    <tr>\n      <th>6574</th>\n      <td>United States</td>\n      <td>2017</td>\n      <td>60062.22</td>\n    </tr>\n    <tr>\n      <th>6575</th>\n      <td>United States</td>\n      <td>2016</td>\n      <td>59043.21</td>\n    </tr>\n    <tr>\n      <th>6576</th>\n      <td>United States</td>\n      <td>2015</td>\n      <td>58509.58</td>\n    </tr>\n    <tr>\n      <th>6577</th>\n      <td>United States</td>\n      <td>2014</td>\n      <td>57273.13</td>\n    </tr>\n    <tr>\n      <th>6578</th>\n      <td>United States</td>\n      <td>2013</td>\n      <td>56269.96</td>\n    </tr>\n    <tr>\n      <th>6579</th>\n      <td>United States</td>\n      <td>2012</td>\n      <td>55632.93</td>\n    </tr>\n    <tr>\n      <th>6580</th>\n      <td>United States</td>\n      <td>2011</td>\n      <td>54806.12</td>\n    </tr>\n    <tr>\n      <th>6581</th>\n      <td>United States</td>\n      <td>2010</td>\n      <td>54359.13</td>\n    </tr>\n    <tr>\n      <th>6582</th>\n      <td>United States</td>\n      <td>2009</td>\n      <td>53440.91</td>\n    </tr>\n    <tr>\n      <th>6583</th>\n      <td>United States</td>\n      <td>2008</td>\n      <td>55314.66</td>\n    </tr>\n    <tr>\n      <th>6584</th>\n      <td>United States</td>\n      <td>2007</td>\n      <td>55916.72</td>\n    </tr>\n    <tr>\n      <th>6585</th>\n      <td>United States</td>\n      <td>2006</td>\n      <td>55411.44</td>\n    </tr>\n    <tr>\n      <th>6586</th>\n      <td>United States</td>\n      <td>2005</td>\n      <td>54395.36</td>\n    </tr>\n    <tr>\n      <th>6587</th>\n      <td>United States</td>\n      <td>2004</td>\n      <td>53035.78</td>\n    </tr>\n    <tr>\n      <th>6588</th>\n      <td>United States</td>\n      <td>2003</td>\n      <td>51569.82</td>\n    </tr>\n    <tr>\n      <th>6589</th>\n      <td>United States</td>\n      <td>2002</td>\n      <td>50568.10</td>\n    </tr>\n    <tr>\n      <th>6590</th>\n      <td>United States</td>\n      <td>2001</td>\n      <td>50165.72</td>\n    </tr>\n    <tr>\n      <th>6591</th>\n      <td>United States</td>\n      <td>2000</td>\n      <td>50163.89</td>\n    </tr>\n    <tr>\n      <th>6592</th>\n      <td>United States</td>\n      <td>1999</td>\n      <td>48714.53</td>\n    </tr>\n    <tr>\n      <th>6593</th>\n      <td>United States</td>\n      <td>1998</td>\n      <td>47041.18</td>\n    </tr>\n    <tr>\n      <th>6594</th>\n      <td>United States</td>\n      <td>1997</td>\n      <td>45551.41</td>\n    </tr>\n    <tr>\n      <th>6595</th>\n      <td>United States</td>\n      <td>1996</td>\n      <td>44140.14</td>\n    </tr>\n    <tr>\n      <th>6596</th>\n      <td>United States</td>\n      <td>1995</td>\n      <td>43033.24</td>\n    </tr>\n    <tr>\n      <th>6597</th>\n      <td>United States</td>\n      <td>1994</td>\n      <td>42410.33</td>\n    </tr>\n    <tr>\n      <th>6598</th>\n      <td>United States</td>\n      <td>1993</td>\n      <td>41270.87</td>\n    </tr>\n    <tr>\n      <th>6599</th>\n      <td>United States</td>\n      <td>1992</td>\n      <td>40698.34</td>\n    </tr>\n    <tr>\n      <th>6600</th>\n      <td>United States</td>\n      <td>1991</td>\n      <td>39862.58</td>\n    </tr>\n    <tr>\n      <th>6601</th>\n      <td>United States</td>\n      <td>1990</td>\n      <td>40442.60</td>\n    </tr>\n  </tbody>\n</table>\n</div>"
     },
     "execution_count": 116,
     "metadata": {},
     "output_type": "execute_result"
    }
   ],
   "source": [
    "def round_2(n: float):\n",
    "\tif n == '':\n",
    "\t\treturn\n",
    "\ttry:\n",
    "\t\treturn float(np.format_float_positional(float(n), precision=2))\n",
    "\texcept Exception:\n",
    "\t\tprint(f'Unable to convert {n} to float')\n",
    "\n",
    "gdp = pd\\\n",
    "    .read_csv('data/gdp_per_capita.csv', converters={'Value': round_2})\\\n",
    "    .drop(columns=['Value Footnotes']) \\\n",
    "    .dropna(subset=['Value']) \\\n",
    "    .rename(columns={'Country or Area': 'Country', 'Value': 'GDP_Per_Capita'})\\\n",
    "\t.rename(columns=str.lower)\\\n",
    "    .astype({'year': int})\n",
    "\n",
    "gdp.info()\n",
    "gdp.head()\n",
    "\n",
    "gdp.query('country == \"United States\"')"
   ],
   "metadata": {
    "collapsed": false,
    "pycharm": {
     "name": "#%%\n"
    }
   }
  },
  {
   "cell_type": "code",
   "execution_count": 117,
   "outputs": [
    {
     "name": "stdout",
     "output_type": "stream",
     "text": [
      "<class 'pandas.core.frame.DataFrame'>\n",
      "Int64Index: 4495 entries, 0 to 4494\n",
      "Data columns (total 3 columns):\n",
      " #   Column            Non-Null Count  Dtype  \n",
      "---  ------            --------------  -----  \n",
      " 0   country           4495 non-null   object \n",
      " 1   year              4495 non-null   int64  \n",
      " 2   internet_use_pct  4495 non-null   float64\n",
      "dtypes: float64(1), int64(1), object(1)\n",
      "memory usage: 140.5+ KB\n"
     ]
    },
    {
     "data": {
      "text/plain": "       country  year  internet_use_pct\n0  Afghanistan  2014          6.390000\n1  Afghanistan  2013          5.900000\n2  Afghanistan  2012          5.454545\n3  Afghanistan  2011          5.000000\n4  Afghanistan  2010          4.000000",
      "text/html": "<div>\n<style scoped>\n    .dataframe tbody tr th:only-of-type {\n        vertical-align: middle;\n    }\n\n    .dataframe tbody tr th {\n        vertical-align: top;\n    }\n\n    .dataframe thead th {\n        text-align: right;\n    }\n</style>\n<table border=\"1\" class=\"dataframe\">\n  <thead>\n    <tr style=\"text-align: right;\">\n      <th></th>\n      <th>country</th>\n      <th>year</th>\n      <th>internet_use_pct</th>\n    </tr>\n  </thead>\n  <tbody>\n    <tr>\n      <th>0</th>\n      <td>Afghanistan</td>\n      <td>2014</td>\n      <td>6.390000</td>\n    </tr>\n    <tr>\n      <th>1</th>\n      <td>Afghanistan</td>\n      <td>2013</td>\n      <td>5.900000</td>\n    </tr>\n    <tr>\n      <th>2</th>\n      <td>Afghanistan</td>\n      <td>2012</td>\n      <td>5.454545</td>\n    </tr>\n    <tr>\n      <th>3</th>\n      <td>Afghanistan</td>\n      <td>2011</td>\n      <td>5.000000</td>\n    </tr>\n    <tr>\n      <th>4</th>\n      <td>Afghanistan</td>\n      <td>2010</td>\n      <td>4.000000</td>\n    </tr>\n  </tbody>\n</table>\n</div>"
     },
     "execution_count": 117,
     "metadata": {},
     "output_type": "execute_result"
    }
   ],
   "source": [
    "def is_year_filter(obj):\n",
    "\ttry:\n",
    "\t\tdatetime.strptime(obj, '%Y')\n",
    "\t\treturn obj\n",
    "\texcept Exception:\n",
    "\t\t# print(f'{obj} is not a year')\n",
    "\t\treturn\n",
    "\n",
    "def is_numeric_filter(obj):\n",
    "\ttry:\n",
    "\t\tfloat(obj)\n",
    "\t\treturn obj\n",
    "\texcept Exception:\n",
    "\t\t# print(f'{obj} is not a number')\n",
    "\t\treturn\n",
    "\n",
    "internet = pd.read_csv(\n",
    "\t'data/internet_use.csv',\n",
    "\tconverters=\n",
    "\t{\n",
    "\t\t'Year': is_year_filter,\n",
    "\t\t'Value': is_numeric_filter\n",
    "\t})\\\n",
    "\t.dropna(subset=['Year', 'Value'])\\\n",
    "\t.drop(columns=['Value Footnotes'])\\\n",
    "\t.rename(columns={'Country or Area': 'Country', 'Value': 'internet_use_pct'})\\\n",
    "\t.rename(columns=str.lower)\\\n",
    "\t.astype({'year': int, 'internet_use_pct': float})\n",
    "\n",
    "internet.info()\n",
    "internet.head()"
   ],
   "metadata": {
    "collapsed": false,
    "pycharm": {
     "name": "#%%\n"
    }
   }
  },
  {
   "cell_type": "code",
   "execution_count": 125,
   "outputs": [
    {
     "data": {
      "text/plain": "              gdp_per_capita  internet_use_pct  printed_trade_usd\ncountry year                                                     \nAlbania 2012        11263.85         54.655959         21113586.0\n        2011        11088.09         49.000000         19920103.0\n        2010        10783.82         45.000000         23086167.0\n        2009        10346.86         41.200000         17780646.0\n        2008         9944.23         23.860000         16706161.0",
      "text/html": "<div>\n<style scoped>\n    .dataframe tbody tr th:only-of-type {\n        vertical-align: middle;\n    }\n\n    .dataframe tbody tr th {\n        vertical-align: top;\n    }\n\n    .dataframe thead th {\n        text-align: right;\n    }\n</style>\n<table border=\"1\" class=\"dataframe\">\n  <thead>\n    <tr style=\"text-align: right;\">\n      <th></th>\n      <th></th>\n      <th>gdp_per_capita</th>\n      <th>internet_use_pct</th>\n      <th>printed_trade_usd</th>\n    </tr>\n    <tr>\n      <th>country</th>\n      <th>year</th>\n      <th></th>\n      <th></th>\n      <th></th>\n    </tr>\n  </thead>\n  <tbody>\n    <tr>\n      <th rowspan=\"5\" valign=\"top\">Albania</th>\n      <th>2012</th>\n      <td>11263.85</td>\n      <td>54.655959</td>\n      <td>21113586.0</td>\n    </tr>\n    <tr>\n      <th>2011</th>\n      <td>11088.09</td>\n      <td>49.000000</td>\n      <td>19920103.0</td>\n    </tr>\n    <tr>\n      <th>2010</th>\n      <td>10783.82</td>\n      <td>45.000000</td>\n      <td>23086167.0</td>\n    </tr>\n    <tr>\n      <th>2009</th>\n      <td>10346.86</td>\n      <td>41.200000</td>\n      <td>17780646.0</td>\n    </tr>\n    <tr>\n      <th>2008</th>\n      <td>9944.23</td>\n      <td>23.860000</td>\n      <td>16706161.0</td>\n    </tr>\n  </tbody>\n</table>\n</div>"
     },
     "execution_count": 125,
     "metadata": {},
     "output_type": "execute_result"
    }
   ],
   "source": [
    "gdp_internet_printed = gdp\\\n",
    "\t.merge(internet, on=['country', 'year'])\\\n",
    "\t.merge(\n",
    "\t\tprinted_trade,\n",
    "\t\ton=['country', 'year'],\n",
    "\t\tsuffixes=['_internet', '_obesity'])\\\n",
    "\t.rename(columns=str.lower)\\\n",
    "\t.set_index(['country', 'year'])\n",
    "\n",
    "gdp_internet_printed.head()"
   ],
   "metadata": {
    "collapsed": false,
    "pycharm": {
     "name": "#%%\n"
    }
   }
  },
  {
   "cell_type": "code",
   "execution_count": 139,
   "outputs": [],
   "source": [
    "plt.rcParams['figure.facecolor'] = 'white'\n",
    "\n",
    "usa = gdp_internet_printed.loc['United States']"
   ],
   "metadata": {
    "collapsed": false,
    "pycharm": {
     "name": "#%%\n"
    }
   }
  }
 ],
 "metadata": {
  "kernelspec": {
   "display_name": "Python 3",
   "language": "python",
   "name": "python3"
  },
  "language_info": {
   "codemirror_mode": {
    "name": "ipython",
    "version": 2
   },
   "file_extension": ".py",
   "mimetype": "text/x-python",
   "name": "python",
   "nbconvert_exporter": "python",
   "pygments_lexer": "ipython2",
   "version": "2.7.6"
  }
 },
 "nbformat": 4,
 "nbformat_minor": 0
}