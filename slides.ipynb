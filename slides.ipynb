{
 "cells": [
  {
   "cell_type": "markdown",
   "metadata": {
    "slideshow": {
     "slide_type": "slide"
    }
   },
   "source": [
    "### US Trade of Printed Books, Newspapers, Pictures vs GDP & Internet Usage 1990 - 2010\n",
    "\n",
    "#### dataset taken from http://data.un.org/Data.aspx?d=ComTrade&f=_l1Code%3a50\n"
   ]
  },
  {
   "cell_type": "code",
   "execution_count": 31,
   "metadata": {
    "slideshow": {
     "slide_type": "slide"
    }
   },
   "outputs": [],
   "source": [
    "import matplotlib.pyplot as plt\n",
    "import pandas as pd\n",
    "import numpy as np\n",
    "import seaborn as sns"
   ]
  },
  {
   "cell_type": "code",
   "execution_count": 10,
   "metadata": {
    "pycharm": {
     "name": "#%%\n"
    },
    "slideshow": {
     "slide_type": "slide"
    }
   },
   "outputs": [],
   "source": [
    "printed_trade = pd.read_csv('data/printed_goods_world_trade.csv')\\\n",
    "\t.drop(columns=['Weight (kg)'])\\\n",
    "\t.rename(columns={\n",
    "\t\t'Country or Area': 'country',\n",
    "\t\t'Trade (USD)': 'printed_trade_usd'\n",
    "\t})\\\n",
    "\t.rename(columns=str.lower)\\\n",
    "\t.replace(to_replace='USA', value='United States')\\\n",
    "\t.dropna(subset=['printed_trade_usd'])\\\n",
    "\t.pivot_table(\n",
    "\t\tindex=['country', 'year'],\n",
    "\t\tvalues='printed_trade_usd',\n",
    "\t\taggfunc=np.sum\n",
    "\t)"
   ]
  },
  {
   "cell_type": "code",
   "execution_count": 9,
   "metadata": {
    "slideshow": {
     "slide_type": "slide"
    }
   },
   "outputs": [
    {
     "data": {
      "text/html": [
       "<div>\n",
       "<style scoped>\n",
       "    .dataframe tbody tr th:only-of-type {\n",
       "        vertical-align: middle;\n",
       "    }\n",
       "\n",
       "    .dataframe tbody tr th {\n",
       "        vertical-align: top;\n",
       "    }\n",
       "\n",
       "    .dataframe thead th {\n",
       "        text-align: right;\n",
       "    }\n",
       "</style>\n",
       "<table border=\"1\" class=\"dataframe\">\n",
       "  <thead>\n",
       "    <tr style=\"text-align: right;\">\n",
       "      <th></th>\n",
       "      <th></th>\n",
       "      <th>printed_trade_usd</th>\n",
       "    </tr>\n",
       "    <tr>\n",
       "      <th>country</th>\n",
       "      <th>year</th>\n",
       "      <th></th>\n",
       "    </tr>\n",
       "  </thead>\n",
       "  <tbody>\n",
       "    <tr>\n",
       "      <th rowspan=\"5\" valign=\"top\">Albania</th>\n",
       "      <th>1996</th>\n",
       "      <td>6142394.0</td>\n",
       "    </tr>\n",
       "    <tr>\n",
       "      <th>1997</th>\n",
       "      <td>6782503.0</td>\n",
       "    </tr>\n",
       "    <tr>\n",
       "      <th>1998</th>\n",
       "      <td>6911066.0</td>\n",
       "    </tr>\n",
       "    <tr>\n",
       "      <th>1999</th>\n",
       "      <td>4952458.0</td>\n",
       "    </tr>\n",
       "    <tr>\n",
       "      <th>2000</th>\n",
       "      <td>3407583.0</td>\n",
       "    </tr>\n",
       "  </tbody>\n",
       "</table>\n",
       "</div>"
      ],
      "text/plain": [
       "              printed_trade_usd\n",
       "country year                   \n",
       "Albania 1996          6142394.0\n",
       "        1997          6782503.0\n",
       "        1998          6911066.0\n",
       "        1999          4952458.0\n",
       "        2000          3407583.0"
      ]
     },
     "execution_count": 9,
     "metadata": {},
     "output_type": "execute_result"
    }
   ],
   "source": [
    "printed_trade.head()"
   ]
  },
  {
   "cell_type": "code",
   "execution_count": 13,
   "metadata": {
    "pycharm": {
     "name": "#%%\n"
    },
    "slideshow": {
     "slide_type": "slide"
    }
   },
   "outputs": [],
   "source": [
    "def round_2(n: float):\n",
    "\tif n == '':\n",
    "\t\treturn\n",
    "\ttry:\n",
    "\t\treturn float(np.format_float_positional(float(n), precision=2))\n",
    "\texcept Exception:\n",
    "\t\tprint(f'Unable to convert {n} to float')\n",
    "\n",
    "gdp = pd\\\n",
    "    .read_csv('data/gdp_per_capita.csv', converters={'Value': round_2})\\\n",
    "    .drop(columns=['Value Footnotes']) \\\n",
    "    .rename(columns={'Country or Area': 'country', 'Value': 'gdp_per_capita'})\\\n",
    "\t.rename(columns=str.lower)\\\n",
    "    .dropna(subset=['gdp_per_capita']) \\\n",
    "    .astype({'year': int})"
   ]
  },
  {
   "cell_type": "code",
   "execution_count": 12,
   "metadata": {
    "slideshow": {
     "slide_type": "slide"
    }
   },
   "outputs": [
    {
     "data": {
      "text/html": [
       "<div>\n",
       "<style scoped>\n",
       "    .dataframe tbody tr th:only-of-type {\n",
       "        vertical-align: middle;\n",
       "    }\n",
       "\n",
       "    .dataframe tbody tr th {\n",
       "        vertical-align: top;\n",
       "    }\n",
       "\n",
       "    .dataframe thead th {\n",
       "        text-align: right;\n",
       "    }\n",
       "</style>\n",
       "<table border=\"1\" class=\"dataframe\">\n",
       "  <thead>\n",
       "    <tr style=\"text-align: right;\">\n",
       "      <th></th>\n",
       "      <th>country</th>\n",
       "      <th>year</th>\n",
       "      <th>gdp_per_capita</th>\n",
       "    </tr>\n",
       "  </thead>\n",
       "  <tbody>\n",
       "    <tr>\n",
       "      <th>0</th>\n",
       "      <td>Afghanistan</td>\n",
       "      <td>2019</td>\n",
       "      <td>2065.04</td>\n",
       "    </tr>\n",
       "    <tr>\n",
       "      <th>1</th>\n",
       "      <td>Afghanistan</td>\n",
       "      <td>2018</td>\n",
       "      <td>2033.78</td>\n",
       "    </tr>\n",
       "    <tr>\n",
       "      <th>2</th>\n",
       "      <td>Afghanistan</td>\n",
       "      <td>2017</td>\n",
       "      <td>2058.38</td>\n",
       "    </tr>\n",
       "    <tr>\n",
       "      <th>3</th>\n",
       "      <td>Afghanistan</td>\n",
       "      <td>2016</td>\n",
       "      <td>2057.06</td>\n",
       "    </tr>\n",
       "    <tr>\n",
       "      <th>4</th>\n",
       "      <td>Afghanistan</td>\n",
       "      <td>2015</td>\n",
       "      <td>2068.27</td>\n",
       "    </tr>\n",
       "  </tbody>\n",
       "</table>\n",
       "</div>"
      ],
      "text/plain": [
       "       country  year  gdp_per_capita\n",
       "0  Afghanistan  2019         2065.04\n",
       "1  Afghanistan  2018         2033.78\n",
       "2  Afghanistan  2017         2058.38\n",
       "3  Afghanistan  2016         2057.06\n",
       "4  Afghanistan  2015         2068.27"
      ]
     },
     "execution_count": 12,
     "metadata": {},
     "output_type": "execute_result"
    }
   ],
   "source": [
    "gdp.head()"
   ]
  },
  {
   "cell_type": "code",
   "execution_count": 14,
   "metadata": {
    "pycharm": {
     "name": "#%%\n"
    },
    "slideshow": {
     "slide_type": "slide"
    }
   },
   "outputs": [],
   "source": [
    "def is_year_filter(obj):\n",
    "\ttry:\n",
    "\t\tdatetime.strptime(obj, '%Y')\n",
    "\t\treturn obj\n",
    "\texcept Exception:\n",
    "\t\treturn\n",
    "\n",
    "def is_numeric_filter(obj):\n",
    "\ttry:\n",
    "\t\tfloat(obj)\n",
    "\t\treturn obj\n",
    "\texcept Exception:\n",
    "\t\treturn\n",
    "\n",
    "internet = pd.read_csv(\n",
    "\t'data/internet_use.csv',\n",
    "\tconverters=\n",
    "\t{\n",
    "\t\t'Year': is_year_filter,\n",
    "\t\t'Value': is_numeric_filter\n",
    "\t})\\\n",
    "\t.dropna(subset=['Year', 'Value'])\\\n",
    "\t.drop(columns=['Value Footnotes'])\\\n",
    "\t.rename(columns={'Country or Area': 'Country', 'Value': 'internet_use_pct'})\\\n",
    "\t.rename(columns=str.lower)\\\n",
    "\t.astype({'year': int, 'internet_use_pct': float})"
   ]
  },
  {
   "cell_type": "code",
   "execution_count": 15,
   "metadata": {
    "slideshow": {
     "slide_type": "slide"
    }
   },
   "outputs": [
    {
     "data": {
      "text/html": [
       "<div>\n",
       "<style scoped>\n",
       "    .dataframe tbody tr th:only-of-type {\n",
       "        vertical-align: middle;\n",
       "    }\n",
       "\n",
       "    .dataframe tbody tr th {\n",
       "        vertical-align: top;\n",
       "    }\n",
       "\n",
       "    .dataframe thead th {\n",
       "        text-align: right;\n",
       "    }\n",
       "</style>\n",
       "<table border=\"1\" class=\"dataframe\">\n",
       "  <thead>\n",
       "    <tr style=\"text-align: right;\">\n",
       "      <th></th>\n",
       "      <th>country</th>\n",
       "      <th>year</th>\n",
       "      <th>internet_use_pct</th>\n",
       "    </tr>\n",
       "  </thead>\n",
       "  <tbody>\n",
       "    <tr>\n",
       "      <th>0</th>\n",
       "      <td>Afghanistan</td>\n",
       "      <td>2014</td>\n",
       "      <td>6.390000</td>\n",
       "    </tr>\n",
       "    <tr>\n",
       "      <th>1</th>\n",
       "      <td>Afghanistan</td>\n",
       "      <td>2013</td>\n",
       "      <td>5.900000</td>\n",
       "    </tr>\n",
       "    <tr>\n",
       "      <th>2</th>\n",
       "      <td>Afghanistan</td>\n",
       "      <td>2012</td>\n",
       "      <td>5.454545</td>\n",
       "    </tr>\n",
       "    <tr>\n",
       "      <th>3</th>\n",
       "      <td>Afghanistan</td>\n",
       "      <td>2011</td>\n",
       "      <td>5.000000</td>\n",
       "    </tr>\n",
       "    <tr>\n",
       "      <th>4</th>\n",
       "      <td>Afghanistan</td>\n",
       "      <td>2010</td>\n",
       "      <td>4.000000</td>\n",
       "    </tr>\n",
       "  </tbody>\n",
       "</table>\n",
       "</div>"
      ],
      "text/plain": [
       "       country  year  internet_use_pct\n",
       "0  Afghanistan  2014          6.390000\n",
       "1  Afghanistan  2013          5.900000\n",
       "2  Afghanistan  2012          5.454545\n",
       "3  Afghanistan  2011          5.000000\n",
       "4  Afghanistan  2010          4.000000"
      ]
     },
     "execution_count": 15,
     "metadata": {},
     "output_type": "execute_result"
    }
   ],
   "source": [
    "internet.head()"
   ]
  },
  {
   "cell_type": "code",
   "execution_count": 18,
   "metadata": {
    "pycharm": {
     "name": "#%%\n"
    },
    "slideshow": {
     "slide_type": "slide"
    }
   },
   "outputs": [],
   "source": [
    "gdp_internet_printed = gdp\\\n",
    "\t.merge(internet, on=['country', 'year'])\\\n",
    "\t.merge(\n",
    "\t\tprinted_trade,\n",
    "\t\ton=['country', 'year'])\\\n",
    "\t.rename(columns=str.lower)\\\n",
    "\t.set_index(['country', 'year'])"
   ]
  },
  {
   "cell_type": "code",
   "execution_count": 19,
   "metadata": {
    "slideshow": {
     "slide_type": "slide"
    }
   },
   "outputs": [
    {
     "data": {
      "text/html": [
       "<div>\n",
       "<style scoped>\n",
       "    .dataframe tbody tr th:only-of-type {\n",
       "        vertical-align: middle;\n",
       "    }\n",
       "\n",
       "    .dataframe tbody tr th {\n",
       "        vertical-align: top;\n",
       "    }\n",
       "\n",
       "    .dataframe thead th {\n",
       "        text-align: right;\n",
       "    }\n",
       "</style>\n",
       "<table border=\"1\" class=\"dataframe\">\n",
       "  <thead>\n",
       "    <tr style=\"text-align: right;\">\n",
       "      <th></th>\n",
       "      <th></th>\n",
       "      <th>gdp_per_capita</th>\n",
       "      <th>internet_use_pct</th>\n",
       "      <th>printed_trade_usd</th>\n",
       "    </tr>\n",
       "    <tr>\n",
       "      <th>country</th>\n",
       "      <th>year</th>\n",
       "      <th></th>\n",
       "      <th></th>\n",
       "      <th></th>\n",
       "    </tr>\n",
       "  </thead>\n",
       "  <tbody>\n",
       "    <tr>\n",
       "      <th rowspan=\"5\" valign=\"top\">Albania</th>\n",
       "      <th>2012</th>\n",
       "      <td>11263.85</td>\n",
       "      <td>54.655959</td>\n",
       "      <td>21113586.0</td>\n",
       "    </tr>\n",
       "    <tr>\n",
       "      <th>2011</th>\n",
       "      <td>11088.09</td>\n",
       "      <td>49.000000</td>\n",
       "      <td>19920103.0</td>\n",
       "    </tr>\n",
       "    <tr>\n",
       "      <th>2010</th>\n",
       "      <td>10783.82</td>\n",
       "      <td>45.000000</td>\n",
       "      <td>23086167.0</td>\n",
       "    </tr>\n",
       "    <tr>\n",
       "      <th>2009</th>\n",
       "      <td>10346.86</td>\n",
       "      <td>41.200000</td>\n",
       "      <td>17780646.0</td>\n",
       "    </tr>\n",
       "    <tr>\n",
       "      <th>2008</th>\n",
       "      <td>9944.23</td>\n",
       "      <td>23.860000</td>\n",
       "      <td>16706161.0</td>\n",
       "    </tr>\n",
       "  </tbody>\n",
       "</table>\n",
       "</div>"
      ],
      "text/plain": [
       "              gdp_per_capita  internet_use_pct  printed_trade_usd\n",
       "country year                                                     \n",
       "Albania 2012        11263.85         54.655959         21113586.0\n",
       "        2011        11088.09         49.000000         19920103.0\n",
       "        2010        10783.82         45.000000         23086167.0\n",
       "        2009        10346.86         41.200000         17780646.0\n",
       "        2008         9944.23         23.860000         16706161.0"
      ]
     },
     "execution_count": 19,
     "metadata": {},
     "output_type": "execute_result"
    }
   ],
   "source": [
    "gdp_internet_printed.head()"
   ]
  },
  {
   "cell_type": "code",
   "execution_count": 29,
   "metadata": {
    "pycharm": {
     "name": "#%%\n"
    },
    "slideshow": {
     "slide_type": "slide"
    }
   },
   "outputs": [],
   "source": [
    "usa = gdp_internet_printed.loc['United States']\n",
    "\n",
    "def normalize(dataframe, column_name):\n",
    "    def _normalize(val, max):\n",
    "        return val / max\n",
    "    \n",
    "    dataframe[column_name] = dataframe[column_name].apply(lambda x: _normalize(x, dataframe[column_name].max()))\n",
    "\n",
    "\n",
    "for column_name in usa.columns.values:\n",
    "    normalize(usa, column_name)"
   ]
  },
  {
   "cell_type": "code",
   "execution_count": 34,
   "metadata": {
    "slideshow": {
     "slide_type": "slide"
    }
   },
   "outputs": [
    {
     "data": {
      "text/plain": [
       "<AxesSubplot:xlabel='year'>"
      ]
     },
     "execution_count": 34,
     "metadata": {},
     "output_type": "execute_result"
    },
    {
     "data": {
      "image/png": "[encoded data removed]",
      "text/plain": [
       "<Figure size 432x288 with 1 Axes>"
      ]
     },
     "metadata": {},
     "output_type": "display_data"
    }
   ],
   "source": [
    "plt.rcParams['figure.facecolor'] = 'white'\n",
    "\n",
    "fig, ax = plt.subplots()\n",
    "ax.locator_params(integer=True)\n",
    "\n",
    "sns.lineplot(data=usa)"
   ]
  }
 ],
 "metadata": {
  "celltoolbar": "Slideshow",
  "kernelspec": {
   "display_name": "Python 3",
   "language": "python",
   "name": "python3"
  },
  "language_info": {
   "codemirror_mode": {
    "name": "ipython",
    "version": 3
   },
   "file_extension": ".py",
   "mimetype": "text/x-python",
   "name": "python",
   "nbconvert_exporter": "python",
   "pygments_lexer": "ipython3",
   "version": "3.8.8"
  }
 },
 "nbformat": 4,
 "nbformat_minor": 1
}
