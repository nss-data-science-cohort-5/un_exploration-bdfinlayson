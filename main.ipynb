{
 "cells": [
  {
   "cell_type": "code",
   "execution_count": 1,
   "metadata": {
    "collapsed": true
   },
   "outputs": [],
   "source": [
    "from datetime import datetime\n",
    "\n",
    "import pandas as pd\n",
    "import numpy as np\n",
    "import matplotlib.pyplot as plt\n",
    "import seaborn as sns\n",
    "from pandas import DataFrame\n",
    "\n",
    "%matplotlib inline\n",
    "\n",
    "plt.rcParams['figure.facecolor'] = 'white'"
   ]
  },
  {
   "cell_type": "code",
   "execution_count": 2,
   "outputs": [
    {
     "name": "stdout",
     "output_type": "stream",
     "text": [
      "<class 'pandas.core.frame.DataFrame'>\n",
      "RangeIndex: 6870 entries, 0 to 6869\n",
      "Data columns (total 4 columns):\n",
      " #   Column           Non-Null Count  Dtype  \n",
      "---  ------           --------------  -----  \n",
      " 0   Country or Area  6870 non-null   object \n",
      " 1   Year             6870 non-null   object \n",
      " 2   Value            6868 non-null   float64\n",
      " 3   Value Footnotes  1 non-null      float64\n",
      "dtypes: float64(2), object(2)\n",
      "memory usage: 214.8+ KB\n"
     ]
    },
    {
     "data": {
      "text/plain": "     Country or Area                                      Year    Value  \\\n6865        Zimbabwe                                      1992  3054.89   \n6866        Zimbabwe                                      1991  3426.60   \n6867        Zimbabwe                                      1990  3324.35   \n6868   footnoteSeqID                                  Footnote      NaN   \n6869               2  Excludes South Sudan after July 9, 2011.      NaN   \n\n      Value Footnotes  \n6865              NaN  \n6866              NaN  \n6867              NaN  \n6868              NaN  \n6869              NaN  ",
      "text/html": "<div>\n<style scoped>\n    .dataframe tbody tr th:only-of-type {\n        vertical-align: middle;\n    }\n\n    .dataframe tbody tr th {\n        vertical-align: top;\n    }\n\n    .dataframe thead th {\n        text-align: right;\n    }\n</style>\n<table border=\"1\" class=\"dataframe\">\n  <thead>\n    <tr style=\"text-align: right;\">\n      <th></th>\n      <th>Country or Area</th>\n      <th>Year</th>\n      <th>Value</th>\n      <th>Value Footnotes</th>\n    </tr>\n  </thead>\n  <tbody>\n    <tr>\n      <th>6865</th>\n      <td>Zimbabwe</td>\n      <td>1992</td>\n      <td>3054.89</td>\n      <td>NaN</td>\n    </tr>\n    <tr>\n      <th>6866</th>\n      <td>Zimbabwe</td>\n      <td>1991</td>\n      <td>3426.60</td>\n      <td>NaN</td>\n    </tr>\n    <tr>\n      <th>6867</th>\n      <td>Zimbabwe</td>\n      <td>1990</td>\n      <td>3324.35</td>\n      <td>NaN</td>\n    </tr>\n    <tr>\n      <th>6868</th>\n      <td>footnoteSeqID</td>\n      <td>Footnote</td>\n      <td>NaN</td>\n      <td>NaN</td>\n    </tr>\n    <tr>\n      <th>6869</th>\n      <td>2</td>\n      <td>Excludes South Sudan after July 9, 2011.</td>\n      <td>NaN</td>\n      <td>NaN</td>\n    </tr>\n  </tbody>\n</table>\n</div>"
     },
     "execution_count": 2,
     "metadata": {},
     "output_type": "execute_result"
    }
   ],
   "source": [
    "def round_2(n: float):\n",
    "    if n == '':\n",
    "        return\n",
    "    try:\n",
    "        return float(np.format_float_positional(float(n), precision=2))\n",
    "    except Exception:\n",
    "        print(f'Unable to convert {n} to float')\n",
    "\n",
    "\n",
    "gdp_df = pd.read_csv('data/gdp_per_capita.csv', converters={'Value': round_2})\n",
    "\n",
    "gdp_df.info()\n",
    "gdp_df.head(10)\n",
    "gdp_df.tail(5)"
   ],
   "metadata": {
    "collapsed": false,
    "pycharm": {
     "name": "#%%\n"
    }
   }
  },
  {
   "cell_type": "code",
   "execution_count": 3,
   "outputs": [
    {
     "data": {
      "text/plain": "       Country  Year  GDP_Per_Capita\n6863  Zimbabwe  1994         3263.93\n6864  Zimbabwe  1993         3033.50\n6865  Zimbabwe  1992         3054.89\n6866  Zimbabwe  1991         3426.60\n6867  Zimbabwe  1990         3324.35",
      "text/html": "<div>\n<style scoped>\n    .dataframe tbody tr th:only-of-type {\n        vertical-align: middle;\n    }\n\n    .dataframe tbody tr th {\n        vertical-align: top;\n    }\n\n    .dataframe thead th {\n        text-align: right;\n    }\n</style>\n<table border=\"1\" class=\"dataframe\">\n  <thead>\n    <tr style=\"text-align: right;\">\n      <th></th>\n      <th>Country</th>\n      <th>Year</th>\n      <th>GDP_Per_Capita</th>\n    </tr>\n  </thead>\n  <tbody>\n    <tr>\n      <th>6863</th>\n      <td>Zimbabwe</td>\n      <td>1994</td>\n      <td>3263.93</td>\n    </tr>\n    <tr>\n      <th>6864</th>\n      <td>Zimbabwe</td>\n      <td>1993</td>\n      <td>3033.50</td>\n    </tr>\n    <tr>\n      <th>6865</th>\n      <td>Zimbabwe</td>\n      <td>1992</td>\n      <td>3054.89</td>\n    </tr>\n    <tr>\n      <th>6866</th>\n      <td>Zimbabwe</td>\n      <td>1991</td>\n      <td>3426.60</td>\n    </tr>\n    <tr>\n      <th>6867</th>\n      <td>Zimbabwe</td>\n      <td>1990</td>\n      <td>3324.35</td>\n    </tr>\n  </tbody>\n</table>\n</div>"
     },
     "execution_count": 3,
     "metadata": {},
     "output_type": "execute_result"
    }
   ],
   "source": [
    "# 6.\n",
    "\n",
    "gdp_df_revised = gdp_df \\\n",
    "    .drop(columns=['Value Footnotes']) \\\n",
    "    .dropna(subset=['Value']) \\\n",
    "    .rename(columns={'Country or Area': 'Country', 'Value': 'GDP_Per_Capita'})\n",
    "\n",
    "gdp_df_revised.tail()\n"
   ],
   "metadata": {
    "collapsed": false,
    "pycharm": {
     "name": "#%%\n"
    }
   }
  },
  {
   "cell_type": "code",
   "execution_count": 4,
   "outputs": [
    {
     "name": "stdout",
     "output_type": "stream",
     "text": [
      "The dataframe has 6868 rows\n",
      "The datatype of column Country is object\n",
      "The datatype of column Year is object\n",
      "The datatype of column GDP_Per_Capita is float64\n"
     ]
    }
   ],
   "source": [
    "# 7\n",
    "\n",
    "print(f'The dataframe has {gdp_df_revised.shape[0]} rows')\n",
    "\n",
    "column_dtypes = gdp_df_revised.dtypes.to_dict()\n",
    "\n",
    "for column in column_dtypes:\n",
    "    print(f'The datatype of column {column} is {column_dtypes[column]}')"
   ],
   "metadata": {
    "collapsed": false,
    "pycharm": {
     "name": "#%%\n"
    }
   }
  },
  {
   "cell_type": "code",
   "execution_count": 5,
   "outputs": [
    {
     "name": "stdout",
     "output_type": "stream",
     "text": [
      "The years represented include: 2019, 2018, 2017, 2016, 2015, 2014, 2013, 2012, 2011, 2010, 2009, 2008, 2007, 2006, 2005, 2004, 2003, 2002, 2001, 2000, 1999, 1998, 1997, 1996, 1995, 1994, 1993, 1992, 1991, 1990.\n",
      "Some years have fewer observations than others.\n"
     ]
    },
    {
     "data": {
      "text/plain": "<Figure size 432x288 with 1 Axes>",
      "image/png": "[encoded data removed]"
     },
     "metadata": {},
     "output_type": "display_data"
    }
   ],
   "source": [
    "# 8\n",
    "\n",
    "years_represented = gdp_df_revised.Year.unique()\n",
    "\n",
    "print(f'The years represented include: {str.join(\", \", years_represented)}.')\n",
    "\n",
    "gdp_df_revised.Year.value_counts().plot(kind='bar')\n",
    "\n",
    "print('Some years have fewer observations than others.')"
   ],
   "metadata": {
    "collapsed": false,
    "pycharm": {
     "name": "#%%\n"
    }
   }
  },
  {
   "cell_type": "code",
   "execution_count": 6,
   "outputs": [
    {
     "name": "stdout",
     "output_type": "stream",
     "text": [
      "Of the 238 counted, most countries had 30 observations.\n",
      "However, 35 had fewer than that\n",
      "Some had as few as 7.0 observations.\n",
      "Those countries with less than 30 were: Index(['Marshall Islands', 'Hungary', 'Micronesia', 'Turkmenistan', 'Aruba',\n",
      "       'Slovak Republic', 'Cambodia', 'Estonia', 'Small states',\n",
      "       'Bosnia and Herzegovina', 'West Bank and Gaza', 'Croatia', 'Lithuania',\n",
      "       'Maldives', 'Latvia', 'Serbia', 'Moldova', 'Kuwait', 'Montenegro',\n",
      "       'San Marino', 'Libya', 'Kosovo', 'Palau', 'Other small states',\n",
      "       'CuraÃ§ao', 'Liberia', 'Timor-Leste', 'Qatar',\n",
      "       'SÃ£o TomÃ© and Principe', 'Afghanistan', 'Nauru', 'Cayman Islands',\n",
      "       'Sint Maarten (Dutch part)', 'Turks and Caicos Islands', 'Djibouti'],\n",
      "      dtype='object')\n",
      "The lack of observations for these countries is probably due in part to political instability (eg West Bank and Gaza)\n"
     ]
    }
   ],
   "source": [
    "# 9\n",
    "\n",
    "countries = gdp_df_revised.Country.value_counts()\n",
    "\n",
    "country_stats = countries.describe()\n",
    "\n",
    "countries_with_less_than_30_observations = DataFrame(countries).query('Country < 30')\n",
    "\n",
    "print(f'Of the {countries.size} counted, most countries had {int(country_stats[\"25%\"])} observations.')\n",
    "print(f'However, {countries_with_less_than_30_observations.size} had fewer than that')\n",
    "print(f'Some had as few as {country_stats[\"min\"]} observations.')\n",
    "print(f'Those countries with less than {int(country_stats[\"25%\"])} were: {countries_with_less_than_30_observations.index}')\n",
    "print('The lack of observations for these countries is probably due in part to political instability (eg West Bank and Gaza)')"
   ],
   "metadata": {
    "collapsed": false,
    "pycharm": {
     "name": "#%%\n"
    }
   }
  },
  {
   "cell_type": "code",
   "execution_count": 7,
   "outputs": [],
   "source": [
    "# 10\n",
    "\n",
    "gdp_2014 = gdp_df_revised.set_index('Year').loc['2014']"
   ],
   "metadata": {
    "collapsed": false,
    "pycharm": {
     "name": "#%%\n"
    }
   }
  },
  {
   "cell_type": "code",
   "execution_count": 8,
   "outputs": [
    {
     "data": {
      "text/plain": "       GDP_Per_Capita\ncount      238.000000\nmean     19766.710420\nstd      20983.869499\nmin        822.610000\n25%       4753.115000\n50%      12209.385000\n75%      26803.607500\nmax     156514.130000",
      "text/html": "<div>\n<style scoped>\n    .dataframe tbody tr th:only-of-type {\n        vertical-align: middle;\n    }\n\n    .dataframe tbody tr th {\n        vertical-align: top;\n    }\n\n    .dataframe thead th {\n        text-align: right;\n    }\n</style>\n<table border=\"1\" class=\"dataframe\">\n  <thead>\n    <tr style=\"text-align: right;\">\n      <th></th>\n      <th>GDP_Per_Capita</th>\n    </tr>\n  </thead>\n  <tbody>\n    <tr>\n      <th>count</th>\n      <td>238.000000</td>\n    </tr>\n    <tr>\n      <th>mean</th>\n      <td>19766.710420</td>\n    </tr>\n    <tr>\n      <th>std</th>\n      <td>20983.869499</td>\n    </tr>\n    <tr>\n      <th>min</th>\n      <td>822.610000</td>\n    </tr>\n    <tr>\n      <th>25%</th>\n      <td>4753.115000</td>\n    </tr>\n    <tr>\n      <th>50%</th>\n      <td>12209.385000</td>\n    </tr>\n    <tr>\n      <th>75%</th>\n      <td>26803.607500</td>\n    </tr>\n    <tr>\n      <th>max</th>\n      <td>156514.130000</td>\n    </tr>\n  </tbody>\n</table>\n</div>"
     },
     "execution_count": 8,
     "metadata": {},
     "output_type": "execute_result"
    }
   ],
   "source": [
    "# 11\n",
    "\n",
    "gdp_2014.describe()"
   ],
   "metadata": {
    "collapsed": false,
    "pycharm": {
     "name": "#%%\n"
    }
   }
  },
  {
   "cell_type": "code",
   "execution_count": 9,
   "outputs": [
    {
     "data": {
      "text/plain": "array([[<AxesSubplot:title={'center':'GDP_Per_Capita'}>]], dtype=object)"
     },
     "execution_count": 9,
     "metadata": {},
     "output_type": "execute_result"
    },
    {
     "data": {
      "text/plain": "<Figure size 432x288 with 1 Axes>",
      "image/png": "[encoded data removed]"
     },
     "metadata": {},
     "output_type": "display_data"
    }
   ],
   "source": [
    "# 12\n",
    "\n",
    "gdp_2014.hist(bins=25)"
   ],
   "metadata": {
    "collapsed": false,
    "pycharm": {
     "name": "#%%\n"
    }
   }
  },
  {
   "cell_type": "code",
   "execution_count": 10,
   "outputs": [],
   "source": [
    "# 13\n",
    "\n",
    "gdp_2014_sorted = gdp_2014.sort_values(by='GDP_Per_Capita')\n",
    "gdp_2014_top_5 = gdp_2014_sorted.head()\n",
    "gdp_2014_bottom_5 = gdp_2014_sorted.tail()"
   ],
   "metadata": {
    "collapsed": false,
    "pycharm": {
     "name": "#%%\n"
    }
   }
  },
  {
   "cell_type": "code",
   "execution_count": 11,
   "outputs": [
    {
     "name": "stdout",
     "output_type": "stream",
     "text": [
      "<class 'pandas.core.frame.DataFrame'>\n",
      "RangeIndex: 6870 entries, 0 to 6869\n",
      "Data columns (total 4 columns):\n",
      " #   Column           Non-Null Count  Dtype  \n",
      "---  ------           --------------  -----  \n",
      " 0   Country or Area  6870 non-null   object \n",
      " 1   Year             6870 non-null   object \n",
      " 2   Value            6868 non-null   float64\n",
      " 3   Value Footnotes  1 non-null      float64\n",
      "dtypes: float64(2), object(2)\n",
      "memory usage: 214.8+ KB\n",
      "<class 'pandas.core.frame.DataFrame'>\n",
      "Int64Index: 6868 entries, 0 to 6867\n",
      "Data columns (total 3 columns):\n",
      " #   Column          Non-Null Count  Dtype  \n",
      "---  ------          --------------  -----  \n",
      " 0   Country         6868 non-null   object \n",
      " 1   Year            6868 non-null   object \n",
      " 2   GDP_Per_Capita  6868 non-null   float64\n",
      "dtypes: float64(1), object(2)\n",
      "memory usage: 214.6+ KB\n"
     ]
    },
    {
     "data": {
      "text/plain": "Year                     1990      2017\nCountry                                \nAlbania               4842.73  12811.76\nAlgeria               8746.35  11737.41\nAngola                5783.43   7310.90\nAntigua and Barbuda  15459.55  19840.08\nArab World            9694.67  14555.47",
      "text/html": "<div>\n<style scoped>\n    .dataframe tbody tr th:only-of-type {\n        vertical-align: middle;\n    }\n\n    .dataframe tbody tr th {\n        vertical-align: top;\n    }\n\n    .dataframe thead th {\n        text-align: right;\n    }\n</style>\n<table border=\"1\" class=\"dataframe\">\n  <thead>\n    <tr style=\"text-align: right;\">\n      <th>Year</th>\n      <th>1990</th>\n      <th>2017</th>\n    </tr>\n    <tr>\n      <th>Country</th>\n      <th></th>\n      <th></th>\n    </tr>\n  </thead>\n  <tbody>\n    <tr>\n      <th>Albania</th>\n      <td>4842.73</td>\n      <td>12811.76</td>\n    </tr>\n    <tr>\n      <th>Algeria</th>\n      <td>8746.35</td>\n      <td>11737.41</td>\n    </tr>\n    <tr>\n      <th>Angola</th>\n      <td>5783.43</td>\n      <td>7310.90</td>\n    </tr>\n    <tr>\n      <th>Antigua and Barbuda</th>\n      <td>15459.55</td>\n      <td>19840.08</td>\n    </tr>\n    <tr>\n      <th>Arab World</th>\n      <td>9694.67</td>\n      <td>14555.47</td>\n    </tr>\n  </tbody>\n</table>\n</div>"
     },
     "execution_count": 11,
     "metadata": {},
     "output_type": "execute_result"
    }
   ],
   "source": [
    "# 14\n",
    "\n",
    "gdp_df.info()\n",
    "gdp_df_revised.info()\n",
    "gdp_pivoted = gdp_df_revised\\\n",
    "    .query('Year == \"1990\" or Year == \"2017\"')\\\n",
    "    .pivot_table(\n",
    "        index='Country',\n",
    "        columns='Year',\n",
    "        values='GDP_Per_Capita')\\\n",
    "    .dropna()\n",
    "\n",
    "gdp_pivoted.head()\n"
   ],
   "metadata": {
    "collapsed": false,
    "pycharm": {
     "name": "#%%\n"
    }
   }
  },
  {
   "cell_type": "code",
   "execution_count": 12,
   "outputs": [
    {
     "data": {
      "text/plain": "Year                     1990      2017  Percent_Change\nCountry                                                \nAlbania               4842.73  12811.76      164.556562\nAlgeria               8746.35  11737.41       34.197808\nAngola                5783.43   7310.90       26.411144\nAntigua and Barbuda  15459.55  19840.08       28.335430\nArab World            9694.67  14555.47       50.138891",
      "text/html": "<div>\n<style scoped>\n    .dataframe tbody tr th:only-of-type {\n        vertical-align: middle;\n    }\n\n    .dataframe tbody tr th {\n        vertical-align: top;\n    }\n\n    .dataframe thead th {\n        text-align: right;\n    }\n</style>\n<table border=\"1\" class=\"dataframe\">\n  <thead>\n    <tr style=\"text-align: right;\">\n      <th>Year</th>\n      <th>1990</th>\n      <th>2017</th>\n      <th>Percent_Change</th>\n    </tr>\n    <tr>\n      <th>Country</th>\n      <th></th>\n      <th></th>\n      <th></th>\n    </tr>\n  </thead>\n  <tbody>\n    <tr>\n      <th>Albania</th>\n      <td>4842.73</td>\n      <td>12811.76</td>\n      <td>164.556562</td>\n    </tr>\n    <tr>\n      <th>Algeria</th>\n      <td>8746.35</td>\n      <td>11737.41</td>\n      <td>34.197808</td>\n    </tr>\n    <tr>\n      <th>Angola</th>\n      <td>5783.43</td>\n      <td>7310.90</td>\n      <td>26.411144</td>\n    </tr>\n    <tr>\n      <th>Antigua and Barbuda</th>\n      <td>15459.55</td>\n      <td>19840.08</td>\n      <td>28.335430</td>\n    </tr>\n    <tr>\n      <th>Arab World</th>\n      <td>9694.67</td>\n      <td>14555.47</td>\n      <td>50.138891</td>\n    </tr>\n  </tbody>\n</table>\n</div>"
     },
     "execution_count": 12,
     "metadata": {},
     "output_type": "execute_result"
    }
   ],
   "source": [
    "# 15\n",
    "\n",
    "def pct_change(old_value, new_value):\n",
    "    return 100 * (new_value - old_value) / old_value\n",
    "\n",
    "gdp_pivoted['Percent_Change'] = pct_change(gdp_pivoted['1990'], gdp_pivoted['2017'])\n",
    "\n",
    "gdp_pivoted.head()"
   ],
   "metadata": {
    "collapsed": false,
    "pycharm": {
     "name": "#%%\n"
    }
   }
  },
  {
   "cell_type": "code",
   "execution_count": 13,
   "outputs": [
    {
     "name": "stdout",
     "output_type": "stream",
     "text": [
      "A total of 51 countries had negative gdp growth from 1990 to 2017\n"
     ]
    }
   ],
   "source": [
    "# 16\n",
    "\n",
    "countries_with_negative_gdp_growth = gdp_pivoted.query('Percent_Change < 0')\n",
    "\n",
    "print(f'A total of {countries_with_negative_gdp_growth.size} countries had negative gdp growth from 1990 to 2017')"
   ],
   "metadata": {
    "collapsed": false,
    "pycharm": {
     "name": "#%%\n"
    }
   }
  },
  {
   "cell_type": "code",
   "execution_count": 14,
   "outputs": [
    {
     "data": {
      "text/plain": "<Figure size 432x288 with 2 Axes>",
      "image/png": "[encoded data removed]"
     },
     "metadata": {},
     "output_type": "display_data"
    }
   ],
   "source": [
    "# 17\n",
    "\n",
    "top_two_gdp_countries = gdp_pivoted.sort_values(by='Percent_Change', ascending=False).head(2).index.values\n",
    "\n",
    "top_two_df = gdp_df_revised[gdp_df_revised.Country.isin(top_two_gdp_countries)].set_index('Year')\n",
    "\n",
    "country_names = top_two_df.Country.unique()\n",
    "\n",
    "fig, ax = plt.subplots()\n",
    "\n",
    "def get_country_gdp_history(country_name):\n",
    "    return top_two_df[top_two_df.Country == country_name].sort_values(by='Year')\n",
    "\n",
    "def plot_country_gdp(axes, country_df, label, color):\n",
    "    axes.plot(country_df.index, country_df.GDP_Per_Capita, color=color, label=label)\n",
    "    axes.legend(frameon=False, loc='lower center', ncol=2)\n",
    "    axes.set_xlabel('Year')\n",
    "    axes.set_ylabel('GDP Per Capita')\n",
    "\n",
    "country_a = get_country_gdp_history(country_names[0])\n",
    "country_b = get_country_gdp_history(country_names[1])\n",
    "\n",
    "ax2 = ax.twinx()\n",
    "\n",
    "plot_country_gdp(ax, country_a, country_names[0], 'b')\n",
    "plot_country_gdp(ax2, country_b, country_names[1], 'r')"
   ],
   "metadata": {
    "collapsed": false,
    "pycharm": {
     "name": "#%%\n"
    }
   }
  },
  {
   "cell_type": "code",
   "execution_count": 15,
   "outputs": [
    {
     "name": "stdout",
     "output_type": "stream",
     "text": [
      "<class 'pandas.core.frame.DataFrame'>\n",
      "RangeIndex: 216 entries, 0 to 215\n",
      "Data columns (total 2 columns):\n",
      " #   Column     Non-Null Count  Dtype \n",
      "---  ------     --------------  ----- \n",
      " 0   Continent  216 non-null    object\n",
      " 1   Country    216 non-null    object\n",
      "dtypes: object(2)\n",
      "memory usage: 3.5+ KB\n"
     ]
    },
    {
     "data": {
      "text/plain": "  Continent      Country\n0      Asia  Afghanistan\n1    Europe      Albania\n2    Africa      Algeria\n3    Europe      Andorra\n4    Africa       Angola",
      "text/html": "<div>\n<style scoped>\n    .dataframe tbody tr th:only-of-type {\n        vertical-align: middle;\n    }\n\n    .dataframe tbody tr th {\n        vertical-align: top;\n    }\n\n    .dataframe thead th {\n        text-align: right;\n    }\n</style>\n<table border=\"1\" class=\"dataframe\">\n  <thead>\n    <tr style=\"text-align: right;\">\n      <th></th>\n      <th>Continent</th>\n      <th>Country</th>\n    </tr>\n  </thead>\n  <tbody>\n    <tr>\n      <th>0</th>\n      <td>Asia</td>\n      <td>Afghanistan</td>\n    </tr>\n    <tr>\n      <th>1</th>\n      <td>Europe</td>\n      <td>Albania</td>\n    </tr>\n    <tr>\n      <th>2</th>\n      <td>Africa</td>\n      <td>Algeria</td>\n    </tr>\n    <tr>\n      <th>3</th>\n      <td>Europe</td>\n      <td>Andorra</td>\n    </tr>\n    <tr>\n      <th>4</th>\n      <td>Africa</td>\n      <td>Angola</td>\n    </tr>\n  </tbody>\n</table>\n</div>"
     },
     "execution_count": 15,
     "metadata": {},
     "output_type": "execute_result"
    }
   ],
   "source": [
    "# 18\n",
    "\n",
    "continents = pd.read_csv('data/continents.csv')\n",
    "\n",
    "continents.info()\n",
    "continents.head()"
   ],
   "metadata": {
    "collapsed": false,
    "pycharm": {
     "name": "#%%\n"
    }
   }
  },
  {
   "cell_type": "code",
   "execution_count": 16,
   "outputs": [
    {
     "data": {
      "text/plain": "       Country  Year  GDP_Per_Capita Continent\n0  Afghanistan  2019         2065.04      Asia\n1  Afghanistan  2018         2033.78      Asia\n2  Afghanistan  2017         2058.38      Asia\n3  Afghanistan  2016         2057.06      Asia\n4  Afghanistan  2015         2068.27      Asia",
      "text/html": "<div>\n<style scoped>\n    .dataframe tbody tr th:only-of-type {\n        vertical-align: middle;\n    }\n\n    .dataframe tbody tr th {\n        vertical-align: top;\n    }\n\n    .dataframe thead th {\n        text-align: right;\n    }\n</style>\n<table border=\"1\" class=\"dataframe\">\n  <thead>\n    <tr style=\"text-align: right;\">\n      <th></th>\n      <th>Country</th>\n      <th>Year</th>\n      <th>GDP_Per_Capita</th>\n      <th>Continent</th>\n    </tr>\n  </thead>\n  <tbody>\n    <tr>\n      <th>0</th>\n      <td>Afghanistan</td>\n      <td>2019</td>\n      <td>2065.04</td>\n      <td>Asia</td>\n    </tr>\n    <tr>\n      <th>1</th>\n      <td>Afghanistan</td>\n      <td>2018</td>\n      <td>2033.78</td>\n      <td>Asia</td>\n    </tr>\n    <tr>\n      <th>2</th>\n      <td>Afghanistan</td>\n      <td>2017</td>\n      <td>2058.38</td>\n      <td>Asia</td>\n    </tr>\n    <tr>\n      <th>3</th>\n      <td>Afghanistan</td>\n      <td>2016</td>\n      <td>2057.06</td>\n      <td>Asia</td>\n    </tr>\n    <tr>\n      <th>4</th>\n      <td>Afghanistan</td>\n      <td>2015</td>\n      <td>2068.27</td>\n      <td>Asia</td>\n    </tr>\n  </tbody>\n</table>\n</div>"
     },
     "execution_count": 16,
     "metadata": {},
     "output_type": "execute_result"
    }
   ],
   "source": [
    "# 19\n",
    "\n",
    "gdp_df_revised = gdp_df_revised.merge(continents, on='Country', how='left')\n",
    "gdp_df_revised.head()"
   ],
   "metadata": {
    "collapsed": false,
    "pycharm": {
     "name": "#%%\n"
    }
   }
  },
  {
   "cell_type": "code",
   "execution_count": 17,
   "outputs": [
    {
     "name": "stdout",
     "output_type": "stream",
     "text": [
      "Africa has 49 countries\n",
      "Asia has 43 countries\n",
      "Europe has 45 countries\n",
      "North America has 26 countries\n",
      "Oceania has 14 countries\n",
      "South America has 11 countries\n"
     ]
    }
   ],
   "source": [
    "# 20\n",
    "\n",
    "countries_per_continent = gdp_df_revised\\\n",
    "    .groupby('Continent')['Country']\\\n",
    "    .unique()\\\n",
    "    .reset_index()\n",
    "\n",
    "for index, row in countries_per_continent.iterrows():\n",
    "    print(f'{row.Continent} has {row.Country.size} countries')"
   ],
   "metadata": {
    "collapsed": false,
    "pycharm": {
     "name": "#%%\n"
    }
   }
  },
  {
   "cell_type": "code",
   "execution_count": 18,
   "outputs": [
    {
     "data": {
      "text/plain": "<AxesSubplot:xlabel='Continent', ylabel='GDP_Per_Capita'>"
     },
     "execution_count": 18,
     "metadata": {},
     "output_type": "execute_result"
    },
    {
     "data": {
      "text/plain": "<Figure size 432x288 with 1 Axes>",
      "image/png": "[encoded data removed]"
     },
     "metadata": {},
     "output_type": "display_data"
    }
   ],
   "source": [
    "# 21\n",
    "\n",
    "gdp_2014 = gdp_df_revised.query('Year == \"2014\"')\n",
    "\n",
    "sns.boxplot(x = gdp_2014.Continent, y = gdp_2014.GDP_Per_Capita)\n",
    "\n",
    "# Asia has the highest number of extreme outliers, and one of the largest spreads.\n",
    "# Africa, South America, and Oceania have the narrowest spreads,\n",
    "# though Oceania does have a few extreme outliers."
   ],
   "metadata": {
    "collapsed": false,
    "pycharm": {
     "name": "#%%\n"
    }
   }
  },
  {
   "cell_type": "code",
   "execution_count": 19,
   "outputs": [
    {
     "name": "stdout",
     "output_type": "stream",
     "text": [
      "<class 'pandas.core.frame.DataFrame'>\n",
      "Int64Index: 4495 entries, 0 to 4494\n",
      "Data columns (total 4 columns):\n",
      " #   Column           Non-Null Count  Dtype \n",
      "---  ------           --------------  ----- \n",
      " 0   Country or Area  4495 non-null   object\n",
      " 1   Year             4495 non-null   object\n",
      " 2   Value            4495 non-null   object\n",
      " 3   Value Footnotes  948 non-null    object\n",
      "dtypes: object(4)\n",
      "memory usage: 175.6+ KB\n"
     ]
    },
    {
     "data": {
      "text/plain": "  Country or Area  Year             Value Value Footnotes\n0     Afghanistan  2014              6.39             NaN\n1     Afghanistan  2013               5.9             NaN\n2     Afghanistan  2012  5.45454545454545             NaN\n3     Afghanistan  2011                 5             NaN\n4     Afghanistan  2010                 4             NaN",
      "text/html": "<div>\n<style scoped>\n    .dataframe tbody tr th:only-of-type {\n        vertical-align: middle;\n    }\n\n    .dataframe tbody tr th {\n        vertical-align: top;\n    }\n\n    .dataframe thead th {\n        text-align: right;\n    }\n</style>\n<table border=\"1\" class=\"dataframe\">\n  <thead>\n    <tr style=\"text-align: right;\">\n      <th></th>\n      <th>Country or Area</th>\n      <th>Year</th>\n      <th>Value</th>\n      <th>Value Footnotes</th>\n    </tr>\n  </thead>\n  <tbody>\n    <tr>\n      <th>0</th>\n      <td>Afghanistan</td>\n      <td>2014</td>\n      <td>6.39</td>\n      <td>NaN</td>\n    </tr>\n    <tr>\n      <th>1</th>\n      <td>Afghanistan</td>\n      <td>2013</td>\n      <td>5.9</td>\n      <td>NaN</td>\n    </tr>\n    <tr>\n      <th>2</th>\n      <td>Afghanistan</td>\n      <td>2012</td>\n      <td>5.45454545454545</td>\n      <td>NaN</td>\n    </tr>\n    <tr>\n      <th>3</th>\n      <td>Afghanistan</td>\n      <td>2011</td>\n      <td>5</td>\n      <td>NaN</td>\n    </tr>\n    <tr>\n      <th>4</th>\n      <td>Afghanistan</td>\n      <td>2010</td>\n      <td>4</td>\n      <td>NaN</td>\n    </tr>\n  </tbody>\n</table>\n</div>"
     },
     "execution_count": 19,
     "metadata": {},
     "output_type": "execute_result"
    }
   ],
   "source": [
    "# 22\n",
    "def is_year_filter(obj):\n",
    "    try:\n",
    "        datetime.strptime(obj, '%Y')\n",
    "        return obj\n",
    "    except Exception:\n",
    "        # print(f'{obj} is not a year')\n",
    "        return\n",
    "\n",
    "def is_numeric_filter(obj):\n",
    "    try:\n",
    "        float(obj)\n",
    "        return obj\n",
    "    except Exception:\n",
    "        # print(f'{obj} is not a number')\n",
    "        return\n",
    "\n",
    "internet_df = pd.read_csv(\n",
    "    'data/internet_use.csv',\n",
    "    converters=\n",
    "    {\n",
    "        'Year': is_year_filter,\n",
    "        'Value': is_numeric_filter\n",
    "    }\n",
    ").dropna(subset=['Year', 'Value'])\n",
    "\n",
    "internet_df.info()\n",
    "internet_df.head()\n",
    "\n",
    "# FYI, how to fix issue importing the internet use csv for Question 22\n",
    "# (you will probably see an error along the lines of \"expected 6 but got 4\"),\n",
    "# you can fix by manually opening the csv and deleting the two empty columns on the right.\n",
    "# And if you're like me and don't have Excel and are using a Mac,\n",
    "# using Numbers you can go to File -> Export and export the edited file as a CSV."
   ],
   "metadata": {
    "collapsed": false,
    "pycharm": {
     "name": "#%%\n"
    }
   }
  },
  {
   "cell_type": "code",
   "execution_count": 20,
   "outputs": [
    {
     "data": {
      "text/plain": "     Country or Area  Year                Value Value Footnotes\n4490        Zimbabwe  1997    0.033080326724463             NaN\n4491        Zimbabwe  1996    0.016790483892511             NaN\n4492        Zimbabwe  1995  0.00768353991953285             NaN\n4493        Zimbabwe  1994  0.00173927955909959             NaN\n4494        Zimbabwe  1990                    0             NaN",
      "text/html": "<div>\n<style scoped>\n    .dataframe tbody tr th:only-of-type {\n        vertical-align: middle;\n    }\n\n    .dataframe tbody tr th {\n        vertical-align: top;\n    }\n\n    .dataframe thead th {\n        text-align: right;\n    }\n</style>\n<table border=\"1\" class=\"dataframe\">\n  <thead>\n    <tr style=\"text-align: right;\">\n      <th></th>\n      <th>Country or Area</th>\n      <th>Year</th>\n      <th>Value</th>\n      <th>Value Footnotes</th>\n    </tr>\n  </thead>\n  <tbody>\n    <tr>\n      <th>4490</th>\n      <td>Zimbabwe</td>\n      <td>1997</td>\n      <td>0.033080326724463</td>\n      <td>NaN</td>\n    </tr>\n    <tr>\n      <th>4491</th>\n      <td>Zimbabwe</td>\n      <td>1996</td>\n      <td>0.016790483892511</td>\n      <td>NaN</td>\n    </tr>\n    <tr>\n      <th>4492</th>\n      <td>Zimbabwe</td>\n      <td>1995</td>\n      <td>0.00768353991953285</td>\n      <td>NaN</td>\n    </tr>\n    <tr>\n      <th>4493</th>\n      <td>Zimbabwe</td>\n      <td>1994</td>\n      <td>0.00173927955909959</td>\n      <td>NaN</td>\n    </tr>\n    <tr>\n      <th>4494</th>\n      <td>Zimbabwe</td>\n      <td>1990</td>\n      <td>0</td>\n      <td>NaN</td>\n    </tr>\n  </tbody>\n</table>\n</div>"
     },
     "execution_count": 20,
     "metadata": {},
     "output_type": "execute_result"
    }
   ],
   "source": [
    "\n",
    "internet_df.tail()"
   ],
   "metadata": {
    "collapsed": false,
    "pycharm": {
     "name": "#%%\n"
    }
   }
  },
  {
   "cell_type": "code",
   "execution_count": 21,
   "outputs": [
    {
     "data": {
      "text/plain": "       Country  Year  Internet_Users_Pct\n0  Afghanistan  2014            6.390000\n1  Afghanistan  2013            5.900000\n2  Afghanistan  2012            5.454545\n3  Afghanistan  2011            5.000000\n4  Afghanistan  2010            4.000000",
      "text/html": "<div>\n<style scoped>\n    .dataframe tbody tr th:only-of-type {\n        vertical-align: middle;\n    }\n\n    .dataframe tbody tr th {\n        vertical-align: top;\n    }\n\n    .dataframe thead th {\n        text-align: right;\n    }\n</style>\n<table border=\"1\" class=\"dataframe\">\n  <thead>\n    <tr style=\"text-align: right;\">\n      <th></th>\n      <th>Country</th>\n      <th>Year</th>\n      <th>Internet_Users_Pct</th>\n    </tr>\n  </thead>\n  <tbody>\n    <tr>\n      <th>0</th>\n      <td>Afghanistan</td>\n      <td>2014</td>\n      <td>6.390000</td>\n    </tr>\n    <tr>\n      <th>1</th>\n      <td>Afghanistan</td>\n      <td>2013</td>\n      <td>5.900000</td>\n    </tr>\n    <tr>\n      <th>2</th>\n      <td>Afghanistan</td>\n      <td>2012</td>\n      <td>5.454545</td>\n    </tr>\n    <tr>\n      <th>3</th>\n      <td>Afghanistan</td>\n      <td>2011</td>\n      <td>5.000000</td>\n    </tr>\n    <tr>\n      <th>4</th>\n      <td>Afghanistan</td>\n      <td>2010</td>\n      <td>4.000000</td>\n    </tr>\n  </tbody>\n</table>\n</div>"
     },
     "execution_count": 21,
     "metadata": {},
     "output_type": "execute_result"
    }
   ],
   "source": [
    "# 23\n",
    "\n",
    "internet_df = internet_df\\\n",
    "    .drop(columns=['Value Footnotes'])\\\n",
    "    .rename(columns=\n",
    "    {\n",
    "        'Country or Area': 'Country',\n",
    "        'Value': 'Internet_Users_Pct'\n",
    "    })\\\n",
    "    .astype({'Internet_Users_Pct': float})\n",
    "\n",
    "internet_df.head()"
   ],
   "metadata": {
    "collapsed": false,
    "pycharm": {
     "name": "#%%\n"
    }
   }
  },
  {
   "cell_type": "code",
   "execution_count": 22,
   "outputs": [
    {
     "name": "stdout",
     "output_type": "stream",
     "text": [
      "The new dataset has 4495 rows and 3 columns\n",
      "<class 'pandas.core.frame.DataFrame'>\n",
      "Int64Index: 4495 entries, 0 to 4494\n",
      "Data columns (total 3 columns):\n",
      " #   Column              Non-Null Count  Dtype  \n",
      "---  ------              --------------  -----  \n",
      " 0   Country             4495 non-null   object \n",
      " 1   Year                4495 non-null   object \n",
      " 2   Internet_Users_Pct  4495 non-null   float64\n",
      "dtypes: float64(1), object(2)\n",
      "memory usage: 140.5+ KB\n"
     ]
    }
   ],
   "source": [
    "# 24\n",
    "\n",
    "print(f'The new dataset has {internet_df.shape[0]} rows and {internet_df.columns.size} columns')\n",
    "\n",
    "internet_df.info()"
   ],
   "metadata": {
    "collapsed": false,
    "pycharm": {
     "name": "#%%\n"
    }
   }
  },
  {
   "cell_type": "code",
   "execution_count": 23,
   "outputs": [
    {
     "data": {
      "text/plain": "       Country  Year  Internet_Users_Pct\n1318  Ethiopia  1995            0.000018",
      "text/html": "<div>\n<style scoped>\n    .dataframe tbody tr th:only-of-type {\n        vertical-align: middle;\n    }\n\n    .dataframe tbody tr th {\n        vertical-align: top;\n    }\n\n    .dataframe thead th {\n        text-align: right;\n    }\n</style>\n<table border=\"1\" class=\"dataframe\">\n  <thead>\n    <tr style=\"text-align: right;\">\n      <th></th>\n      <th>Country</th>\n      <th>Year</th>\n      <th>Internet_Users_Pct</th>\n    </tr>\n  </thead>\n  <tbody>\n    <tr>\n      <th>1318</th>\n      <td>Ethiopia</td>\n      <td>1995</td>\n      <td>0.000018</td>\n    </tr>\n  </tbody>\n</table>\n</div>"
     },
     "execution_count": 23,
     "metadata": {},
     "output_type": "execute_result"
    }
   ],
   "source": [
    "# 25\n",
    "\n",
    "internet_df\\\n",
    "    .query('Internet_Users_Pct > 0')\\\n",
    "    .sort_values(by='Internet_Users_Pct', ascending=True)\\\n",
    "    .head(1)"
   ],
   "metadata": {
    "collapsed": false,
    "pycharm": {
     "name": "#%%\n"
    }
   }
  },
  {
   "cell_type": "code",
   "execution_count": 24,
   "outputs": [
    {
     "name": "stdout",
     "output_type": "stream",
     "text": [
      "<class 'pandas.core.frame.DataFrame'>\n",
      "Int64Index: 3458 entries, 0 to 3457\n",
      "Data columns (total 5 columns):\n",
      " #   Column              Non-Null Count  Dtype  \n",
      "---  ------              --------------  -----  \n",
      " 0   Country             3458 non-null   object \n",
      " 1   Year                3458 non-null   object \n",
      " 2   GDP_Per_Capita      3458 non-null   float64\n",
      " 3   Continent           3458 non-null   object \n",
      " 4   Internet_Users_Pct  3458 non-null   float64\n",
      "dtypes: float64(2), object(3)\n",
      "memory usage: 162.1+ KB\n"
     ]
    },
    {
     "data": {
      "text/plain": "       Country  Year  GDP_Per_Capita Continent  Internet_Users_Pct\n3453  Zimbabwe  1997         3580.05    Africa            0.033080\n3454  Zimbabwe  1996         3520.43    Africa            0.016790\n3455  Zimbabwe  1995         3226.41    Africa            0.007684\n3456  Zimbabwe  1994         3263.93    Africa            0.001739\n3457  Zimbabwe  1990         3324.35    Africa            0.000000",
      "text/html": "<div>\n<style scoped>\n    .dataframe tbody tr th:only-of-type {\n        vertical-align: middle;\n    }\n\n    .dataframe tbody tr th {\n        vertical-align: top;\n    }\n\n    .dataframe thead th {\n        text-align: right;\n    }\n</style>\n<table border=\"1\" class=\"dataframe\">\n  <thead>\n    <tr style=\"text-align: right;\">\n      <th></th>\n      <th>Country</th>\n      <th>Year</th>\n      <th>GDP_Per_Capita</th>\n      <th>Continent</th>\n      <th>Internet_Users_Pct</th>\n    </tr>\n  </thead>\n  <tbody>\n    <tr>\n      <th>3453</th>\n      <td>Zimbabwe</td>\n      <td>1997</td>\n      <td>3580.05</td>\n      <td>Africa</td>\n      <td>0.033080</td>\n    </tr>\n    <tr>\n      <th>3454</th>\n      <td>Zimbabwe</td>\n      <td>1996</td>\n      <td>3520.43</td>\n      <td>Africa</td>\n      <td>0.016790</td>\n    </tr>\n    <tr>\n      <th>3455</th>\n      <td>Zimbabwe</td>\n      <td>1995</td>\n      <td>3226.41</td>\n      <td>Africa</td>\n      <td>0.007684</td>\n    </tr>\n    <tr>\n      <th>3456</th>\n      <td>Zimbabwe</td>\n      <td>1994</td>\n      <td>3263.93</td>\n      <td>Africa</td>\n      <td>0.001739</td>\n    </tr>\n    <tr>\n      <th>3457</th>\n      <td>Zimbabwe</td>\n      <td>1990</td>\n      <td>3324.35</td>\n      <td>Africa</td>\n      <td>0.000000</td>\n    </tr>\n  </tbody>\n</table>\n</div>"
     },
     "execution_count": 24,
     "metadata": {},
     "output_type": "execute_result"
    }
   ],
   "source": [
    "# 26 - 27\n",
    "\n",
    "gdp_and_internet_use = gdp_df_revised.merge(internet_df, on=['Country', 'Year'])\n",
    "\n",
    "gdp_and_internet_use.info()\n",
    "gdp_and_internet_use.head()\n",
    "gdp_and_internet_use.tail()\n",
    "\n",
    "# countries_diff = list(set(internet_df.Country.unique()) - set(gdp_df_revised.Country.unique()))\n",
    "\n",
    "# print(countries_diff)"
   ],
   "metadata": {
    "collapsed": false,
    "pycharm": {
     "name": "#%%\n"
    }
   }
  },
  {
   "cell_type": "code",
   "execution_count": 25,
   "outputs": [
    {
     "name": "stdout",
     "output_type": "stream",
     "text": [
      "There are 13 countries with > 90% internet usage\n"
     ]
    }
   ],
   "source": [
    "# 28\n",
    "\n",
    "heavy_usage_countries = gdp_and_internet_use\\\n",
    "    .set_index('Year')\\\n",
    "    .loc['2014']\\\n",
    "    .query('Internet_Users_Pct > 90')\n",
    "\n",
    "print(f'There are {heavy_usage_countries.shape[0]} countries with > 90% internet usage')\n"
   ],
   "metadata": {
    "collapsed": false,
    "pycharm": {
     "name": "#%%\n"
    }
   }
  },
  {
   "cell_type": "code",
   "execution_count": 26,
   "outputs": [
    {
     "data": {
      "text/plain": "            Year  GDP_Per_Capita Continent  Internet_Users_Pct\nCountry                                                       \nLuxembourg  2014       108760.92    Europe           94.670000\nLuxembourg  2013       106767.28    Europe           93.776500\nLuxembourg  2012       105411.46    Europe           91.949924\nLuxembourg  2011       108355.58    Europe           90.029859\nLuxembourg  2010       108047.35    Europe           90.620000",
      "text/html": "<div>\n<style scoped>\n    .dataframe tbody tr th:only-of-type {\n        vertical-align: middle;\n    }\n\n    .dataframe tbody tr th {\n        vertical-align: top;\n    }\n\n    .dataframe thead th {\n        text-align: right;\n    }\n</style>\n<table border=\"1\" class=\"dataframe\">\n  <thead>\n    <tr style=\"text-align: right;\">\n      <th></th>\n      <th>Year</th>\n      <th>GDP_Per_Capita</th>\n      <th>Continent</th>\n      <th>Internet_Users_Pct</th>\n    </tr>\n    <tr>\n      <th>Country</th>\n      <th></th>\n      <th></th>\n      <th></th>\n      <th></th>\n    </tr>\n  </thead>\n  <tbody>\n    <tr>\n      <th>Luxembourg</th>\n      <td>2014</td>\n      <td>108760.92</td>\n      <td>Europe</td>\n      <td>94.670000</td>\n    </tr>\n    <tr>\n      <th>Luxembourg</th>\n      <td>2013</td>\n      <td>106767.28</td>\n      <td>Europe</td>\n      <td>93.776500</td>\n    </tr>\n    <tr>\n      <th>Luxembourg</th>\n      <td>2012</td>\n      <td>105411.46</td>\n      <td>Europe</td>\n      <td>91.949924</td>\n    </tr>\n    <tr>\n      <th>Luxembourg</th>\n      <td>2011</td>\n      <td>108355.58</td>\n      <td>Europe</td>\n      <td>90.029859</td>\n    </tr>\n    <tr>\n      <th>Luxembourg</th>\n      <td>2010</td>\n      <td>108047.35</td>\n      <td>Europe</td>\n      <td>90.620000</td>\n    </tr>\n  </tbody>\n</table>\n</div>"
     },
     "execution_count": 26,
     "metadata": {},
     "output_type": "execute_result"
    }
   ],
   "source": [
    "# 29\n",
    "\n",
    "top_3_gdp_2014 = gdp_and_internet_use\\\n",
    "    .set_index('Year')\\\n",
    "    .loc['2014']\\\n",
    "    .sort_values(by='GDP_Per_Capita', ascending=False)\\\n",
    "    .head(3)\n",
    "\n",
    "top_3_gdp_history = gdp_and_internet_use.set_index('Country').loc[top_3_gdp_2014.Country]\n",
    "\n",
    "# top_3_gdp_history.reset_index().head()\n",
    "\n",
    "# fg = sns.FacetGrid(top_3_gdp_history.reset_index(), col='GDP_Per_Capita', row='Year')\n",
    "# fg.map(sns.scatterplot, 'GDP_Per_Capita', 'Year')\n",
    "\n",
    "top_3_gdp_history.head()\n",
    "\n",
    "# TODO: I don't get how to use facetgrids with this dataset"
   ],
   "metadata": {
    "collapsed": false,
    "pycharm": {
     "name": "#%%\n"
    }
   }
  },
  {
   "cell_type": "code",
   "execution_count": 40,
   "outputs": [
    {
     "data": {
      "text/plain": "Text(0, 0.5, '% Internet Users')"
     },
     "execution_count": 40,
     "metadata": {},
     "output_type": "execute_result"
    },
    {
     "data": {
      "text/plain": "<Figure size 432x288 with 1 Axes>",
      "image/png": "[encoded data removed]"
     },
     "metadata": {},
     "output_type": "display_data"
    }
   ],
   "source": [
    "# 30\n",
    "\n",
    "gdp_and_internet_use_2014 = gdp_and_internet_use\\\n",
    "    .set_index('Year')\\\n",
    "    .loc['2014']\n",
    "\n",
    "fig = plt.figure()\n",
    "fig.suptitle('Internet use increases as gdp increases (positive correlation)', fontsize=14, fontweight='bold')\n",
    "plt.scatter(x='GDP_Per_Capita', y='Internet_Users_Pct', data=gdp_and_internet_use_2014)\n",
    "plt.xlabel('GDP Per Capita')\n",
    "plt.ylabel('% Internet Users')\n"
   ],
   "metadata": {
    "collapsed": false,
    "pycharm": {
     "name": "#%%\n"
    }
   }
  },
  {
   "cell_type": "code",
   "execution_count": 43,
   "outputs": [
    {
     "data": {
      "text/plain": "0.8246267155832329"
     },
     "execution_count": 43,
     "metadata": {},
     "output_type": "execute_result"
    }
   ],
   "source": [
    "# 31\n",
    "\n",
    "gdp_internet_corr = gdp_and_internet_use_2014['GDP_Per_Capita'].corr(gdp_and_internet_use_2014['Internet_Users_Pct'])\n",
    "\n",
    "print(f'The correlation of gdp and internet usage is {gdp_internet_corr}. This indicates a strong correlation.')"
   ],
   "metadata": {
    "collapsed": false,
    "pycharm": {
     "name": "#%%\n"
    }
   }
  },
  {
   "cell_type": "code",
   "execution_count": 46,
   "outputs": [
    {
     "name": "stdout",
     "output_type": "stream",
     "text": [
      "The correlation of gdp log and internet usage is 0.903986651597918. I am not sure why it is higher than the previous correlation.\n"
     ]
    }
   ],
   "source": [
    "# 32\n",
    "\n",
    "gdp_and_internet_use_2014['GDP_Per_Capita_Log'] = np.log(gdp_and_internet_use_2014['GDP_Per_Capita'])\n",
    "\n",
    "log_and_internet_corr = gdp_and_internet_use_2014['GDP_Per_Capita_Log'].corr(gdp_and_internet_use_2014['Internet_Users_Pct'])\n",
    "\n",
    "print(f'The correlation of gdp log and internet usage is {log_and_internet_corr}. I am not sure why it is higher than the previous correlation.')"
   ],
   "metadata": {
    "collapsed": false,
    "pycharm": {
     "name": "#%%\n"
    }
   }
  },
  {
   "cell_type": "code",
   "execution_count": 50,
   "outputs": [
    {
     "name": "stdout",
     "output_type": "stream",
     "text": [
      "The correlation between gdp and internet usage is higher in the US than it is globally, coming in at 0.9916600677813263\n"
     ]
    }
   ],
   "source": [
    "# 33\n",
    "\n",
    "us_df = gdp_and_internet_use\\\n",
    "    .set_index('Country')\\\n",
    "    .loc['United States']\n",
    "\n",
    "us_corr = us_df['GDP_Per_Capita'].corr(us_df['Internet_Users_Pct'])\n",
    "\n",
    "print(f'The correlation between gdp and internet usage is higher in the US than it is globally, coming in at {us_corr}')"
   ],
   "metadata": {
    "collapsed": false,
    "pycharm": {
     "name": "#%%\n"
    }
   }
  }
 ],
 "metadata": {
  "kernelspec": {
   "display_name": "Python 3",
   "language": "python",
   "name": "python3"
  },
  "language_info": {
   "codemirror_mode": {
    "name": "ipython",
    "version": 2
   },
   "file_extension": ".py",
   "mimetype": "text/x-python",
   "name": "python",
   "nbconvert_exporter": "python",
   "pygments_lexer": "ipython2",
   "version": "2.7.6"
  }
 },
 "nbformat": 4,
 "nbformat_minor": 0
}