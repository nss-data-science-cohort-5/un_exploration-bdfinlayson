{
 "cells": [
  {
   "cell_type": "code",
   "execution_count": 135,
   "metadata": {
    "collapsed": true
   },
   "outputs": [],
   "source": [
    "import pandas as pd\n",
    "import numpy as np\n",
    "import matplotlib.pyplot as plt\n",
    "import seaborn as sns\n",
    "from pandas import DataFrame\n",
    "\n",
    "%matplotlib inline\n",
    "\n",
    "plt.rcParams['figure.facecolor'] = 'white'"
   ]
  },
  {
   "cell_type": "code",
   "execution_count": 55,
   "outputs": [
    {
     "name": "stdout",
     "output_type": "stream",
     "text": [
      "<class 'pandas.core.frame.DataFrame'>\n",
      "RangeIndex: 6870 entries, 0 to 6869\n",
      "Data columns (total 4 columns):\n",
      " #   Column           Non-Null Count  Dtype  \n",
      "---  ------           --------------  -----  \n",
      " 0   Country or Area  6870 non-null   object \n",
      " 1   Year             6870 non-null   object \n",
      " 2   Value            6868 non-null   float64\n",
      " 3   Value Footnotes  1 non-null      float64\n",
      "dtypes: float64(2), object(2)\n",
      "memory usage: 214.8+ KB\n"
     ]
    },
    {
     "data": {
      "text/plain": "     Country or Area                                      Year    Value  \\\n6865        Zimbabwe                                      1992  3054.89   \n6866        Zimbabwe                                      1991  3426.60   \n6867        Zimbabwe                                      1990  3324.35   \n6868   footnoteSeqID                                  Footnote      NaN   \n6869               2  Excludes South Sudan after July 9, 2011.      NaN   \n\n      Value Footnotes  \n6865              NaN  \n6866              NaN  \n6867              NaN  \n6868              NaN  \n6869              NaN  ",
      "text/html": "<div>\n<style scoped>\n    .dataframe tbody tr th:only-of-type {\n        vertical-align: middle;\n    }\n\n    .dataframe tbody tr th {\n        vertical-align: top;\n    }\n\n    .dataframe thead th {\n        text-align: right;\n    }\n</style>\n<table border=\"1\" class=\"dataframe\">\n  <thead>\n    <tr style=\"text-align: right;\">\n      <th></th>\n      <th>Country or Area</th>\n      <th>Year</th>\n      <th>Value</th>\n      <th>Value Footnotes</th>\n    </tr>\n  </thead>\n  <tbody>\n    <tr>\n      <th>6865</th>\n      <td>Zimbabwe</td>\n      <td>1992</td>\n      <td>3054.89</td>\n      <td>NaN</td>\n    </tr>\n    <tr>\n      <th>6866</th>\n      <td>Zimbabwe</td>\n      <td>1991</td>\n      <td>3426.60</td>\n      <td>NaN</td>\n    </tr>\n    <tr>\n      <th>6867</th>\n      <td>Zimbabwe</td>\n      <td>1990</td>\n      <td>3324.35</td>\n      <td>NaN</td>\n    </tr>\n    <tr>\n      <th>6868</th>\n      <td>footnoteSeqID</td>\n      <td>Footnote</td>\n      <td>NaN</td>\n      <td>NaN</td>\n    </tr>\n    <tr>\n      <th>6869</th>\n      <td>2</td>\n      <td>Excludes South Sudan after July 9, 2011.</td>\n      <td>NaN</td>\n      <td>NaN</td>\n    </tr>\n  </tbody>\n</table>\n</div>"
     },
     "execution_count": 55,
     "metadata": {},
     "output_type": "execute_result"
    }
   ],
   "source": [
    "def round_2(n: float):\n",
    "    if n == '':\n",
    "        return\n",
    "    try:\n",
    "        return float(np.format_float_positional(float(n), precision=2))\n",
    "    except Exception:\n",
    "        print(f'Unable to convert {n} to float')\n",
    "\n",
    "\n",
    "gdp_df = pd.read_csv('data/gdp_per_capita.csv', converters={'Value': round_2})\n",
    "\n",
    "gdp_df.info()\n",
    "gdp_df.head(10)\n",
    "gdp_df.tail(5)"
   ],
   "metadata": {
    "collapsed": false,
    "pycharm": {
     "name": "#%%\n"
    }
   }
  },
  {
   "cell_type": "code",
   "execution_count": 60,
   "outputs": [
    {
     "data": {
      "text/plain": "       Country  Year  GDP_Per_Capita\n6863  Zimbabwe  1994         3263.93\n6864  Zimbabwe  1993         3033.50\n6865  Zimbabwe  1992         3054.89\n6866  Zimbabwe  1991         3426.60\n6867  Zimbabwe  1990         3324.35",
      "text/html": "<div>\n<style scoped>\n    .dataframe tbody tr th:only-of-type {\n        vertical-align: middle;\n    }\n\n    .dataframe tbody tr th {\n        vertical-align: top;\n    }\n\n    .dataframe thead th {\n        text-align: right;\n    }\n</style>\n<table border=\"1\" class=\"dataframe\">\n  <thead>\n    <tr style=\"text-align: right;\">\n      <th></th>\n      <th>Country</th>\n      <th>Year</th>\n      <th>GDP_Per_Capita</th>\n    </tr>\n  </thead>\n  <tbody>\n    <tr>\n      <th>6863</th>\n      <td>Zimbabwe</td>\n      <td>1994</td>\n      <td>3263.93</td>\n    </tr>\n    <tr>\n      <th>6864</th>\n      <td>Zimbabwe</td>\n      <td>1993</td>\n      <td>3033.50</td>\n    </tr>\n    <tr>\n      <th>6865</th>\n      <td>Zimbabwe</td>\n      <td>1992</td>\n      <td>3054.89</td>\n    </tr>\n    <tr>\n      <th>6866</th>\n      <td>Zimbabwe</td>\n      <td>1991</td>\n      <td>3426.60</td>\n    </tr>\n    <tr>\n      <th>6867</th>\n      <td>Zimbabwe</td>\n      <td>1990</td>\n      <td>3324.35</td>\n    </tr>\n  </tbody>\n</table>\n</div>"
     },
     "execution_count": 60,
     "metadata": {},
     "output_type": "execute_result"
    }
   ],
   "source": [
    "# 6.\n",
    "\n",
    "gdp_df_revised = gdp_df \\\n",
    "    .drop(columns=['Value Footnotes']) \\\n",
    "    .dropna(subset=['Value']) \\\n",
    "    .rename(columns={'Country or Area': 'Country', 'Value': 'GDP_Per_Capita'})\n",
    "\n",
    "gdp_df_revised.tail()\n"
   ],
   "metadata": {
    "collapsed": false,
    "pycharm": {
     "name": "#%%\n"
    }
   }
  },
  {
   "cell_type": "code",
   "execution_count": 89,
   "outputs": [
    {
     "name": "stdout",
     "output_type": "stream",
     "text": [
      "The dataframe has 6868 rows\n",
      "The datatype of column Country is object\n",
      "The datatype of column Year is object\n",
      "The datatype of column GDP_Per_Capita is float64\n"
     ]
    }
   ],
   "source": [
    "# 7\n",
    "\n",
    "print(f'The dataframe has {gdp_df_revised.shape[0]} rows')\n",
    "\n",
    "column_dtypes = gdp_df_revised.dtypes.to_dict()\n",
    "\n",
    "for column in column_dtypes:\n",
    "    print(f'The datatype of column {column} is {column_dtypes[column]}')"
   ],
   "metadata": {
    "collapsed": false,
    "pycharm": {
     "name": "#%%\n"
    }
   }
  },
  {
   "cell_type": "code",
   "execution_count": 108,
   "outputs": [
    {
     "name": "stdout",
     "output_type": "stream",
     "text": [
      "The years represented include: 2019, 2018, 2017, 2016, 2015, 2014, 2013, 2012, 2011, 2010, 2009, 2008, 2007, 2006, 2005, 2004, 2003, 2002, 2001, 2000, 1999, 1998, 1997, 1996, 1995, 1994, 1993, 1992, 1991, 1990.\n",
      "Some years have fewer observations than others.\n"
     ]
    },
    {
     "data": {
      "text/plain": "<Figure size 432x288 with 1 Axes>",
      "image/png": "[encoded data removed]"
     },
     "metadata": {},
     "output_type": "display_data"
    }
   ],
   "source": [
    "# 8\n",
    "\n",
    "years_represented = gdp_df_revised.Year.unique()\n",
    "\n",
    "print(f'The years represented include: {str.join(\", \", years_represented)}.')\n",
    "\n",
    "gdp_df_revised.Year.value_counts().plot(kind='bar')\n",
    "\n",
    "print('Some years have fewer observations than others.')"
   ],
   "metadata": {
    "collapsed": false,
    "pycharm": {
     "name": "#%%\n"
    }
   }
  },
  {
   "cell_type": "code",
   "execution_count": 144,
   "outputs": [
    {
     "name": "stdout",
     "output_type": "stream",
     "text": [
      "Of the 238 counted, most countries had 30 observations.\n",
      "However, 35 had fewer than that\n",
      "Some had as few as 7.0\n",
      "Those countries with less than 30 were: Index(['Micronesia', 'Hungary', 'Marshall Islands', 'Turkmenistan', 'Aruba',\n",
      "       'Slovak Republic', 'Small states', 'Cambodia', 'Estonia',\n",
      "       'West Bank and Gaza', 'Bosnia and Herzegovina', 'Maldives', 'Latvia',\n",
      "       'Croatia', 'Kuwait', 'Lithuania', 'Moldova', 'Serbia', 'Montenegro',\n",
      "       'San Marino', 'Libya', 'CuraÃ§ao', 'Other small states', 'Palau',\n",
      "       'Liberia', 'Kosovo', 'Qatar', 'Timor-Leste', 'SÃ£o TomÃ© and Principe',\n",
      "       'Afghanistan', 'Nauru', 'Cayman Islands', 'Sint Maarten (Dutch part)',\n",
      "       'Turks and Caicos Islands', 'Djibouti'],\n",
      "      dtype='object')\n"
     ]
    }
   ],
   "source": [
    "# 9\n",
    "\n",
    "countries = gdp_df_revised.Country.value_counts()\n",
    "\n",
    "country_stats = countries.describe()\n",
    "\n",
    "countries_with_less_than_30_observations = DataFrame(countries).query('Country < 30')\n",
    "\n",
    "print(f'Of the {countries.size} counted, most countries had {int(country_stats[\"25%\"])} observations.')\n",
    "print(f'However, {countries_with_less_than_30_observations.size} had fewer than that')\n",
    "print(f'Some had as few as {country_stats[\"min\"]} observations.')\n",
    "print(f'Those countries with less than {int(country_stats[\"25%\"])} were: {countries_with_less_than_30_observations.index}')\n",
    "print('The lack of observations for these countries is probably due in part to political instability (eg West Bank and Gaza)')"
   ],
   "metadata": {
    "collapsed": false,
    "pycharm": {
     "name": "#%%\n"
    }
   }
  },
  {
   "cell_type": "code",
   "execution_count": 151,
   "outputs": [],
   "source": [
    "# 10\n",
    "\n",
    "gdp_2014 = gdp_df_revised.set_index('Year').loc['2014']"
   ],
   "metadata": {
    "collapsed": false,
    "pycharm": {
     "name": "#%%\n"
    }
   }
  },
  {
   "cell_type": "code",
   "execution_count": 152,
   "outputs": [
    {
     "data": {
      "text/plain": "       GDP_Per_Capita\ncount      238.000000\nmean     19766.710420\nstd      20983.869499\nmin        822.610000\n25%       4753.115000\n50%      12209.385000\n75%      26803.607500\nmax     156514.130000",
      "text/html": "<div>\n<style scoped>\n    .dataframe tbody tr th:only-of-type {\n        vertical-align: middle;\n    }\n\n    .dataframe tbody tr th {\n        vertical-align: top;\n    }\n\n    .dataframe thead th {\n        text-align: right;\n    }\n</style>\n<table border=\"1\" class=\"dataframe\">\n  <thead>\n    <tr style=\"text-align: right;\">\n      <th></th>\n      <th>GDP_Per_Capita</th>\n    </tr>\n  </thead>\n  <tbody>\n    <tr>\n      <th>count</th>\n      <td>238.000000</td>\n    </tr>\n    <tr>\n      <th>mean</th>\n      <td>19766.710420</td>\n    </tr>\n    <tr>\n      <th>std</th>\n      <td>20983.869499</td>\n    </tr>\n    <tr>\n      <th>min</th>\n      <td>822.610000</td>\n    </tr>\n    <tr>\n      <th>25%</th>\n      <td>4753.115000</td>\n    </tr>\n    <tr>\n      <th>50%</th>\n      <td>12209.385000</td>\n    </tr>\n    <tr>\n      <th>75%</th>\n      <td>26803.607500</td>\n    </tr>\n    <tr>\n      <th>max</th>\n      <td>156514.130000</td>\n    </tr>\n  </tbody>\n</table>\n</div>"
     },
     "execution_count": 152,
     "metadata": {},
     "output_type": "execute_result"
    }
   ],
   "source": [
    "# 11\n",
    "\n",
    "gdp_2014.describe()"
   ],
   "metadata": {
    "collapsed": false,
    "pycharm": {
     "name": "#%%\n"
    }
   }
  },
  {
   "cell_type": "code",
   "execution_count": 154,
   "outputs": [
    {
     "data": {
      "text/plain": "array([[<AxesSubplot:title={'center':'GDP_Per_Capita'}>]], dtype=object)"
     },
     "execution_count": 154,
     "metadata": {},
     "output_type": "execute_result"
    },
    {
     "data": {
      "text/plain": "<Figure size 432x288 with 1 Axes>",
      "image/png": "[encoded data removed]"
     },
     "metadata": {},
     "output_type": "display_data"
    }
   ],
   "source": [
    "# 12\n",
    "\n",
    "gdp_2014.hist(bins=25)"
   ],
   "metadata": {
    "collapsed": false,
    "pycharm": {
     "name": "#%%\n"
    }
   }
  },
  {
   "cell_type": "code",
   "execution_count": 156,
   "outputs": [],
   "source": [
    "# 13\n",
    "\n",
    "gdp_2014_sorted = gdp_2014.sort_values(by='GDP_Per_Capita')\n",
    "gdp_2014_top_5 = gdp_2014_sorted.head()\n",
    "gdp_2014_bottom_5 = gdp_2014_sorted.tail()"
   ],
   "metadata": {
    "collapsed": false,
    "pycharm": {
     "name": "#%%\n"
    }
   }
  },
  {
   "cell_type": "code",
   "execution_count": null,
   "outputs": [],
   "source": [
    "# 14\n",
    "\n"
   ],
   "metadata": {
    "collapsed": false,
    "pycharm": {
     "name": "#%%\n"
    }
   }
  }
 ],
 "metadata": {
  "kernelspec": {
   "display_name": "Python 3",
   "language": "python",
   "name": "python3"
  },
  "language_info": {
   "codemirror_mode": {
    "name": "ipython",
    "version": 2
   },
   "file_extension": ".py",
   "mimetype": "text/x-python",
   "name": "python",
   "nbconvert_exporter": "python",
   "pygments_lexer": "ipython2",
   "version": "2.7.6"
  }
 },
 "nbformat": 4,
 "nbformat_minor": 0
}